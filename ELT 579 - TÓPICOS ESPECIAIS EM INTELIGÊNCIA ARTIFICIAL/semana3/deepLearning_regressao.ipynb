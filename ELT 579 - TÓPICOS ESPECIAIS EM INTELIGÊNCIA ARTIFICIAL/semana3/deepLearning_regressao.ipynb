{
 "cells": [
  {
   "cell_type": "markdown",
   "metadata": {
    "id": "Et08qiEeWZPv"
   },
   "source": [
    "#Importar as bibliotecas"
   ]
  },
  {
   "cell_type": "code",
   "execution_count": 1,
   "metadata": {
    "id": "MmqVJ4lVU9gk",
    "ExecuteTime": {
     "end_time": "2023-11-03T19:47:28.558071280Z",
     "start_time": "2023-11-03T19:47:28.244723212Z"
    }
   },
   "outputs": [],
   "source": [
    "import pandas as pd\n",
    "import numpy as np\n",
    "import matplotlib.pyplot as plt"
   ]
  },
  {
   "cell_type": "markdown",
   "metadata": {
    "id": "whMsK8OISAJx"
   },
   "source": [
    "#Importar o dataset"
   ]
  },
  {
   "cell_type": "code",
   "execution_count": 2,
   "metadata": {
    "colab": {
     "background_save": true,
     "base_uri": "https://localhost:8080/",
     "height": 299
    },
    "executionInfo": {
     "elapsed": 896,
     "status": "ok",
     "timestamp": 1649332877341,
     "user": {
      "displayName": "Sarvio Valente",
      "userId": "03216459765114495593"
     },
     "user_tz": 180
    },
    "id": "altojQfOWb4D",
    "outputId": "a71487ae-edb7-401f-ae60-64c308d28704",
    "ExecuteTime": {
     "end_time": "2023-11-03T19:47:30.678220498Z",
     "start_time": "2023-11-03T19:47:30.629484846Z"
    }
   },
   "outputs": [
    {
     "data": {
      "text/plain": "   ID  ARVI_mean_  ARVI_mean_0  ARVI_mean_0.2  ARVI_mean_0.4  ARVI_mean_0.6  \\\n0   1    0.826175     0.826175       0.826175       0.830084       0.891440   \n1   2    0.929867     0.929867       0.929867       0.929867       0.930354   \n2   3    0.935018     0.935018       0.935018       0.935018       0.935018   \n3   4    0.924935     0.924935       0.924935       0.924935       0.925422   \n4   5    0.924226     0.924226       0.924226       0.924226       0.924226   \n\n   ARVI_std_  ARVI_std_0  ARVI_std_0.2  ARVI_std_0.4  ...  rededge_mean_0  \\\n0   0.204087    0.204087      0.204087      0.198302  ...        0.102632   \n1   0.044495    0.044495      0.044495      0.044495  ...        0.107168   \n2   0.038189    0.038189      0.038189      0.038189  ...        0.102992   \n3   0.053082    0.053082      0.053082      0.053082  ...        0.100519   \n4   0.057756    0.057756      0.057756      0.057756  ...        0.101913   \n\n   rededge_mean_0.2  rededge_mean_0.4  rededge_mean_0.6  rededge_std_  \\\n0          0.102632          0.102359          0.101120      0.014673   \n1          0.107168          0.107168          0.107170      0.014065   \n2          0.102992          0.102992          0.102992      0.011667   \n3          0.100519          0.100519          0.100532      0.015275   \n4          0.101913          0.101913          0.101913      0.013607   \n\n   rededge_std_0  rededge_std_0.2  rededge_std_0.4  rededge_std_0.6  \\\n0       0.014673         0.014673         0.014254         0.013392   \n1       0.014065         0.014065         0.014065         0.014072   \n2       0.011667         0.011667         0.011667         0.011667   \n3       0.015275         0.015275         0.015275         0.015277   \n4       0.013607         0.013607         0.013607         0.013607   \n\n   produtividade  \n0          471.7  \n1          677.0  \n2            NaN  \n3          905.6  \n4          670.1  \n\n[5 rows x 352 columns]",
      "text/html": "<div>\n<style scoped>\n    .dataframe tbody tr th:only-of-type {\n        vertical-align: middle;\n    }\n\n    .dataframe tbody tr th {\n        vertical-align: top;\n    }\n\n    .dataframe thead th {\n        text-align: right;\n    }\n</style>\n<table border=\"1\" class=\"dataframe\">\n  <thead>\n    <tr style=\"text-align: right;\">\n      <th></th>\n      <th>ID</th>\n      <th>ARVI_mean_</th>\n      <th>ARVI_mean_0</th>\n      <th>ARVI_mean_0.2</th>\n      <th>ARVI_mean_0.4</th>\n      <th>ARVI_mean_0.6</th>\n      <th>ARVI_std_</th>\n      <th>ARVI_std_0</th>\n      <th>ARVI_std_0.2</th>\n      <th>ARVI_std_0.4</th>\n      <th>...</th>\n      <th>rededge_mean_0</th>\n      <th>rededge_mean_0.2</th>\n      <th>rededge_mean_0.4</th>\n      <th>rededge_mean_0.6</th>\n      <th>rededge_std_</th>\n      <th>rededge_std_0</th>\n      <th>rededge_std_0.2</th>\n      <th>rededge_std_0.4</th>\n      <th>rededge_std_0.6</th>\n      <th>produtividade</th>\n    </tr>\n  </thead>\n  <tbody>\n    <tr>\n      <th>0</th>\n      <td>1</td>\n      <td>0.826175</td>\n      <td>0.826175</td>\n      <td>0.826175</td>\n      <td>0.830084</td>\n      <td>0.891440</td>\n      <td>0.204087</td>\n      <td>0.204087</td>\n      <td>0.204087</td>\n      <td>0.198302</td>\n      <td>...</td>\n      <td>0.102632</td>\n      <td>0.102632</td>\n      <td>0.102359</td>\n      <td>0.101120</td>\n      <td>0.014673</td>\n      <td>0.014673</td>\n      <td>0.014673</td>\n      <td>0.014254</td>\n      <td>0.013392</td>\n      <td>471.7</td>\n    </tr>\n    <tr>\n      <th>1</th>\n      <td>2</td>\n      <td>0.929867</td>\n      <td>0.929867</td>\n      <td>0.929867</td>\n      <td>0.929867</td>\n      <td>0.930354</td>\n      <td>0.044495</td>\n      <td>0.044495</td>\n      <td>0.044495</td>\n      <td>0.044495</td>\n      <td>...</td>\n      <td>0.107168</td>\n      <td>0.107168</td>\n      <td>0.107168</td>\n      <td>0.107170</td>\n      <td>0.014065</td>\n      <td>0.014065</td>\n      <td>0.014065</td>\n      <td>0.014065</td>\n      <td>0.014072</td>\n      <td>677.0</td>\n    </tr>\n    <tr>\n      <th>2</th>\n      <td>3</td>\n      <td>0.935018</td>\n      <td>0.935018</td>\n      <td>0.935018</td>\n      <td>0.935018</td>\n      <td>0.935018</td>\n      <td>0.038189</td>\n      <td>0.038189</td>\n      <td>0.038189</td>\n      <td>0.038189</td>\n      <td>...</td>\n      <td>0.102992</td>\n      <td>0.102992</td>\n      <td>0.102992</td>\n      <td>0.102992</td>\n      <td>0.011667</td>\n      <td>0.011667</td>\n      <td>0.011667</td>\n      <td>0.011667</td>\n      <td>0.011667</td>\n      <td>NaN</td>\n    </tr>\n    <tr>\n      <th>3</th>\n      <td>4</td>\n      <td>0.924935</td>\n      <td>0.924935</td>\n      <td>0.924935</td>\n      <td>0.924935</td>\n      <td>0.925422</td>\n      <td>0.053082</td>\n      <td>0.053082</td>\n      <td>0.053082</td>\n      <td>0.053082</td>\n      <td>...</td>\n      <td>0.100519</td>\n      <td>0.100519</td>\n      <td>0.100519</td>\n      <td>0.100532</td>\n      <td>0.015275</td>\n      <td>0.015275</td>\n      <td>0.015275</td>\n      <td>0.015275</td>\n      <td>0.015277</td>\n      <td>905.6</td>\n    </tr>\n    <tr>\n      <th>4</th>\n      <td>5</td>\n      <td>0.924226</td>\n      <td>0.924226</td>\n      <td>0.924226</td>\n      <td>0.924226</td>\n      <td>0.924226</td>\n      <td>0.057756</td>\n      <td>0.057756</td>\n      <td>0.057756</td>\n      <td>0.057756</td>\n      <td>...</td>\n      <td>0.101913</td>\n      <td>0.101913</td>\n      <td>0.101913</td>\n      <td>0.101913</td>\n      <td>0.013607</td>\n      <td>0.013607</td>\n      <td>0.013607</td>\n      <td>0.013607</td>\n      <td>0.013607</td>\n      <td>670.1</td>\n    </tr>\n  </tbody>\n</table>\n<p>5 rows × 352 columns</p>\n</div>"
     },
     "execution_count": 2,
     "metadata": {},
     "output_type": "execute_result"
    }
   ],
   "source": [
    "#provavelmente você terá que modificar no seu computador\n",
    "df = pd.read_csv('dataset.csv')\n",
    "\n",
    "df.head()"
   ]
  },
  {
   "cell_type": "markdown",
   "metadata": {
    "id": "UF1WXUfQRwWw"
   },
   "source": [
    "#preprocessamento e visualização dos dados"
   ]
  },
  {
   "cell_type": "markdown",
   "metadata": {
    "id": "GOZy7eoGkrvF"
   },
   "source": [
    "##dados faltantes"
   ]
  },
  {
   "cell_type": "code",
   "execution_count": 3,
   "metadata": {
    "colab": {
     "base_uri": "https://localhost:8080/"
    },
    "executionInfo": {
     "elapsed": 363,
     "status": "ok",
     "timestamp": 1649332881185,
     "user": {
      "displayName": "Sarvio Valente",
      "userId": "03216459765114495593"
     },
     "user_tz": 180
    },
    "id": "-SaakejcRva7",
    "outputId": "f92b64eb-b498-49d5-c7c2-860322adbc5a",
    "ExecuteTime": {
     "end_time": "2023-11-03T19:47:33.074660156Z",
     "start_time": "2023-11-03T19:47:33.025453688Z"
    }
   },
   "outputs": [
    {
     "name": "stdout",
     "output_type": "stream",
     "text": [
      "produtividade 18\n"
     ]
    }
   ],
   "source": [
    "for i in df.columns:\n",
    "  if df[i].isna().sum() != 0:\n",
    "    print(i, df[i].isna().sum())\n"
   ]
  },
  {
   "cell_type": "code",
   "execution_count": 4,
   "metadata": {
    "colab": {
     "background_save": true
    },
    "id": "-BzA25Z6gxLz",
    "ExecuteTime": {
     "end_time": "2023-11-03T19:47:33.939005925Z",
     "start_time": "2023-11-03T19:47:33.928668227Z"
    }
   },
   "outputs": [],
   "source": [
    "df = df.fillna(0)"
   ]
  },
  {
   "cell_type": "code",
   "execution_count": 5,
   "metadata": {
    "colab": {
     "background_save": true
    },
    "id": "GGZVFcV2XUnh",
    "ExecuteTime": {
     "end_time": "2023-11-03T19:47:34.702866523Z",
     "start_time": "2023-11-03T19:47:34.699696604Z"
    }
   },
   "outputs": [],
   "source": [
    "#X = df.loc[:,['ARVI_mean_',\t'NDVI_mean_']]\n",
    "X = df.drop(['ID', 'produtividade'], axis = 1)\n",
    "y = df.loc[:,['produtividade']]\n"
   ]
  },
  {
   "cell_type": "code",
   "execution_count": 6,
   "metadata": {
    "colab": {
     "background_save": true,
     "base_uri": "https://localhost:8080/",
     "height": 299
    },
    "executionInfo": {
     "elapsed": 368,
     "status": "ok",
     "timestamp": 1649332889159,
     "user": {
      "displayName": "Sarvio Valente",
      "userId": "03216459765114495593"
     },
     "user_tz": 180
    },
    "id": "ZYLZyJ90XwKR",
    "outputId": "feb3c9a5-25fc-4b13-f64e-1e3bd661bb79",
    "ExecuteTime": {
     "end_time": "2023-11-03T19:47:35.360135690Z",
     "start_time": "2023-11-03T19:47:35.344474771Z"
    }
   },
   "outputs": [
    {
     "data": {
      "text/plain": "   ARVI_mean_  ARVI_mean_0  ARVI_mean_0.2  ARVI_mean_0.4  ARVI_mean_0.6  \\\n0    0.826175     0.826175       0.826175       0.830084       0.891440   \n1    0.929867     0.929867       0.929867       0.929867       0.930354   \n2    0.935018     0.935018       0.935018       0.935018       0.935018   \n3    0.924935     0.924935       0.924935       0.924935       0.925422   \n4    0.924226     0.924226       0.924226       0.924226       0.924226   \n\n   ARVI_std_  ARVI_std_0  ARVI_std_0.2  ARVI_std_0.4  ARVI_std_0.6  ...  \\\n0   0.204087    0.204087      0.204087      0.198302      0.101132  ...   \n1   0.044495    0.044495      0.044495      0.044495      0.041743  ...   \n2   0.038189    0.038189      0.038189      0.038189      0.038189  ...   \n3   0.053082    0.053082      0.053082      0.053082      0.050801  ...   \n4   0.057756    0.057756      0.057756      0.057756      0.057756  ...   \n\n   rededge_mean_  rededge_mean_0  rededge_mean_0.2  rededge_mean_0.4  \\\n0       0.102632        0.102632          0.102632          0.102359   \n1       0.107168        0.107168          0.107168          0.107168   \n2       0.102992        0.102992          0.102992          0.102992   \n3       0.100519        0.100519          0.100519          0.100519   \n4       0.101913        0.101913          0.101913          0.101913   \n\n   rededge_mean_0.6  rededge_std_  rededge_std_0  rededge_std_0.2  \\\n0          0.101120      0.014673       0.014673         0.014673   \n1          0.107170      0.014065       0.014065         0.014065   \n2          0.102992      0.011667       0.011667         0.011667   \n3          0.100532      0.015275       0.015275         0.015275   \n4          0.101913      0.013607       0.013607         0.013607   \n\n   rededge_std_0.4  rededge_std_0.6  \n0         0.014254         0.013392  \n1         0.014065         0.014072  \n2         0.011667         0.011667  \n3         0.015275         0.015277  \n4         0.013607         0.013607  \n\n[5 rows x 350 columns]",
      "text/html": "<div>\n<style scoped>\n    .dataframe tbody tr th:only-of-type {\n        vertical-align: middle;\n    }\n\n    .dataframe tbody tr th {\n        vertical-align: top;\n    }\n\n    .dataframe thead th {\n        text-align: right;\n    }\n</style>\n<table border=\"1\" class=\"dataframe\">\n  <thead>\n    <tr style=\"text-align: right;\">\n      <th></th>\n      <th>ARVI_mean_</th>\n      <th>ARVI_mean_0</th>\n      <th>ARVI_mean_0.2</th>\n      <th>ARVI_mean_0.4</th>\n      <th>ARVI_mean_0.6</th>\n      <th>ARVI_std_</th>\n      <th>ARVI_std_0</th>\n      <th>ARVI_std_0.2</th>\n      <th>ARVI_std_0.4</th>\n      <th>ARVI_std_0.6</th>\n      <th>...</th>\n      <th>rededge_mean_</th>\n      <th>rededge_mean_0</th>\n      <th>rededge_mean_0.2</th>\n      <th>rededge_mean_0.4</th>\n      <th>rededge_mean_0.6</th>\n      <th>rededge_std_</th>\n      <th>rededge_std_0</th>\n      <th>rededge_std_0.2</th>\n      <th>rededge_std_0.4</th>\n      <th>rededge_std_0.6</th>\n    </tr>\n  </thead>\n  <tbody>\n    <tr>\n      <th>0</th>\n      <td>0.826175</td>\n      <td>0.826175</td>\n      <td>0.826175</td>\n      <td>0.830084</td>\n      <td>0.891440</td>\n      <td>0.204087</td>\n      <td>0.204087</td>\n      <td>0.204087</td>\n      <td>0.198302</td>\n      <td>0.101132</td>\n      <td>...</td>\n      <td>0.102632</td>\n      <td>0.102632</td>\n      <td>0.102632</td>\n      <td>0.102359</td>\n      <td>0.101120</td>\n      <td>0.014673</td>\n      <td>0.014673</td>\n      <td>0.014673</td>\n      <td>0.014254</td>\n      <td>0.013392</td>\n    </tr>\n    <tr>\n      <th>1</th>\n      <td>0.929867</td>\n      <td>0.929867</td>\n      <td>0.929867</td>\n      <td>0.929867</td>\n      <td>0.930354</td>\n      <td>0.044495</td>\n      <td>0.044495</td>\n      <td>0.044495</td>\n      <td>0.044495</td>\n      <td>0.041743</td>\n      <td>...</td>\n      <td>0.107168</td>\n      <td>0.107168</td>\n      <td>0.107168</td>\n      <td>0.107168</td>\n      <td>0.107170</td>\n      <td>0.014065</td>\n      <td>0.014065</td>\n      <td>0.014065</td>\n      <td>0.014065</td>\n      <td>0.014072</td>\n    </tr>\n    <tr>\n      <th>2</th>\n      <td>0.935018</td>\n      <td>0.935018</td>\n      <td>0.935018</td>\n      <td>0.935018</td>\n      <td>0.935018</td>\n      <td>0.038189</td>\n      <td>0.038189</td>\n      <td>0.038189</td>\n      <td>0.038189</td>\n      <td>0.038189</td>\n      <td>...</td>\n      <td>0.102992</td>\n      <td>0.102992</td>\n      <td>0.102992</td>\n      <td>0.102992</td>\n      <td>0.102992</td>\n      <td>0.011667</td>\n      <td>0.011667</td>\n      <td>0.011667</td>\n      <td>0.011667</td>\n      <td>0.011667</td>\n    </tr>\n    <tr>\n      <th>3</th>\n      <td>0.924935</td>\n      <td>0.924935</td>\n      <td>0.924935</td>\n      <td>0.924935</td>\n      <td>0.925422</td>\n      <td>0.053082</td>\n      <td>0.053082</td>\n      <td>0.053082</td>\n      <td>0.053082</td>\n      <td>0.050801</td>\n      <td>...</td>\n      <td>0.100519</td>\n      <td>0.100519</td>\n      <td>0.100519</td>\n      <td>0.100519</td>\n      <td>0.100532</td>\n      <td>0.015275</td>\n      <td>0.015275</td>\n      <td>0.015275</td>\n      <td>0.015275</td>\n      <td>0.015277</td>\n    </tr>\n    <tr>\n      <th>4</th>\n      <td>0.924226</td>\n      <td>0.924226</td>\n      <td>0.924226</td>\n      <td>0.924226</td>\n      <td>0.924226</td>\n      <td>0.057756</td>\n      <td>0.057756</td>\n      <td>0.057756</td>\n      <td>0.057756</td>\n      <td>0.057756</td>\n      <td>...</td>\n      <td>0.101913</td>\n      <td>0.101913</td>\n      <td>0.101913</td>\n      <td>0.101913</td>\n      <td>0.101913</td>\n      <td>0.013607</td>\n      <td>0.013607</td>\n      <td>0.013607</td>\n      <td>0.013607</td>\n      <td>0.013607</td>\n    </tr>\n  </tbody>\n</table>\n<p>5 rows × 350 columns</p>\n</div>"
     },
     "execution_count": 6,
     "metadata": {},
     "output_type": "execute_result"
    }
   ],
   "source": [
    "X.head()"
   ]
  },
  {
   "cell_type": "code",
   "execution_count": 7,
   "metadata": {
    "colab": {
     "background_save": true,
     "base_uri": "https://localhost:8080/"
    },
    "executionInfo": {
     "elapsed": 483,
     "status": "ok",
     "timestamp": 1649332891980,
     "user": {
      "displayName": "Sarvio Valente",
      "userId": "03216459765114495593"
     },
     "user_tz": 180
    },
    "id": "xw3BTg0mcBWX",
    "outputId": "52c57ef8-8444-4ab1-87f2-da45d0acda82",
    "ExecuteTime": {
     "end_time": "2023-11-03T19:47:36.052852718Z",
     "start_time": "2023-11-03T19:47:36.049834079Z"
    }
   },
   "outputs": [
    {
     "data": {
      "text/plain": "(297, 350)"
     },
     "execution_count": 7,
     "metadata": {},
     "output_type": "execute_result"
    }
   ],
   "source": [
    "X.shape"
   ]
  },
  {
   "cell_type": "code",
   "execution_count": 8,
   "metadata": {
    "colab": {
     "background_save": true,
     "base_uri": "https://localhost:8080/",
     "height": 206
    },
    "executionInfo": {
     "elapsed": 7,
     "status": "ok",
     "timestamp": 1649332893114,
     "user": {
      "displayName": "Sarvio Valente",
      "userId": "03216459765114495593"
     },
     "user_tz": 180
    },
    "id": "l6fL5HRPXxnA",
    "outputId": "1c089099-3334-49d5-e8ec-316e5cefccd1",
    "ExecuteTime": {
     "end_time": "2023-11-03T19:47:37.628616720Z",
     "start_time": "2023-11-03T19:47:37.613313855Z"
    }
   },
   "outputs": [
    {
     "data": {
      "text/plain": "   produtividade\n0          471.7\n1          677.0\n2            0.0\n3          905.6\n4          670.1",
      "text/html": "<div>\n<style scoped>\n    .dataframe tbody tr th:only-of-type {\n        vertical-align: middle;\n    }\n\n    .dataframe tbody tr th {\n        vertical-align: top;\n    }\n\n    .dataframe thead th {\n        text-align: right;\n    }\n</style>\n<table border=\"1\" class=\"dataframe\">\n  <thead>\n    <tr style=\"text-align: right;\">\n      <th></th>\n      <th>produtividade</th>\n    </tr>\n  </thead>\n  <tbody>\n    <tr>\n      <th>0</th>\n      <td>471.7</td>\n    </tr>\n    <tr>\n      <th>1</th>\n      <td>677.0</td>\n    </tr>\n    <tr>\n      <th>2</th>\n      <td>0.0</td>\n    </tr>\n    <tr>\n      <th>3</th>\n      <td>905.6</td>\n    </tr>\n    <tr>\n      <th>4</th>\n      <td>670.1</td>\n    </tr>\n  </tbody>\n</table>\n</div>"
     },
     "execution_count": 8,
     "metadata": {},
     "output_type": "execute_result"
    }
   ],
   "source": [
    "y.head()"
   ]
  },
  {
   "cell_type": "markdown",
   "source": [
    "##dividir o banco de dados em treinamento e teste"
   ],
   "metadata": {
    "id": "ce5u_f-bqGOU"
   }
  },
  {
   "cell_type": "code",
   "execution_count": 9,
   "metadata": {
    "colab": {
     "background_save": true
    },
    "id": "a8zc7RxDW8fY",
    "ExecuteTime": {
     "end_time": "2023-11-03T19:47:39.818310594Z",
     "start_time": "2023-11-03T19:47:39.649666513Z"
    }
   },
   "outputs": [],
   "source": [
    "# dividir o banco de dados em treinamento e teste.\n",
    "from sklearn.model_selection import train_test_split\n",
    "\n",
    "X_train, X_test, y_train, y_test = train_test_split(X, y, test_size = 0.25, random_state = 0)\n"
   ]
  },
  {
   "cell_type": "markdown",
   "source": [
    "##Padronizar o conjunto de dados em média 0 e desvio padrão 1"
   ],
   "metadata": {
    "id": "y26I4NPmqKYh"
   }
  },
  {
   "cell_type": "code",
   "execution_count": 10,
   "metadata": {
    "colab": {
     "background_save": true
    },
    "id": "rvAUCbJ_YOd3",
    "ExecuteTime": {
     "end_time": "2023-11-03T19:47:42.069478730Z",
     "start_time": "2023-11-03T19:47:42.051437208Z"
    }
   },
   "outputs": [],
   "source": [
    "#padronizar o conjunto de dados\n",
    "from sklearn.preprocessing import StandardScaler\n",
    "scaleX = StandardScaler()           #cria um objeto\n",
    "scaleX = scaleX.fit(X_train)        #ajusta aos dados\n",
    "X_train_sc = scaleX.transform(X_train) #transforma os dados\n",
    "X_test_sc = scaleX.transform(X_test)   #utransforma os dados\n",
    "\n",
    "X_train_sc = pd.DataFrame(X_train_sc)\n",
    "X_train_sc.columns = X_train.columns\n",
    "\n",
    "X_test_sc = pd.DataFrame(X_test_sc)\n",
    "X_test_sc.columns = X_train.columns"
   ]
  },
  {
   "cell_type": "markdown",
   "metadata": {
    "id": "rAvM2mBslbOJ"
   },
   "source": [
    "##Redução da dimensionalidade com PCA\n"
   ]
  },
  {
   "cell_type": "code",
   "execution_count": 11,
   "metadata": {
    "id": "nNh81gEx9QYj",
    "ExecuteTime": {
     "end_time": "2023-11-03T19:47:44.521565482Z",
     "start_time": "2023-11-03T19:47:44.460227243Z"
    }
   },
   "outputs": [],
   "source": [
    "from sklearn.decomposition import PCA\n",
    "\n",
    "pca = PCA(n_components= 2)\n",
    "\n",
    "X_train_pca = pca.fit_transform(X_train_sc)\n",
    "X_test_pca = pca.transform(X_test_sc)"
   ]
  },
  {
   "cell_type": "code",
   "execution_count": 12,
   "metadata": {
    "colab": {
     "base_uri": "https://localhost:8080/"
    },
    "executionInfo": {
     "elapsed": 3927,
     "status": "ok",
     "timestamp": 1649336387279,
     "user": {
      "displayName": "Sarvio Valente",
      "userId": "03216459765114495593"
     },
     "user_tz": 180
    },
    "id": "IUZcH5_HGr4s",
    "outputId": "d105c1f9-f993-4515-e629-1acea283d3d0",
    "ExecuteTime": {
     "end_time": "2023-11-03T19:47:45.949065046Z",
     "start_time": "2023-11-03T19:47:45.934731148Z"
    }
   },
   "outputs": [
    {
     "data": {
      "text/plain": "array([0.62127874, 0.1818185 ])"
     },
     "execution_count": 12,
     "metadata": {},
     "output_type": "execute_result"
    }
   ],
   "source": [
    "var = pca.explained_variance_ratio_\n",
    "var"
   ]
  },
  {
   "cell_type": "markdown",
   "source": [
    "#Outra forma de fazer redução da dimensionalidade"
   ],
   "metadata": {
    "id": "zURN1VbPqQsn"
   }
  },
  {
   "cell_type": "code",
   "execution_count": 13,
   "metadata": {
    "id": "6T26BMFMB4kD",
    "ExecuteTime": {
     "end_time": "2023-11-03T19:47:48.080395160Z",
     "start_time": "2023-11-03T19:47:48.074505782Z"
    }
   },
   "outputs": [],
   "source": [
    "#from sklearn.decomposition import KernelPCA\n",
    "\n",
    "#rbf_pca = KernelPCA(n_components = 3, kernel = 'rbf', gamma = 0.01)\n",
    "\n",
    "#X_train_pca = rbf_pca.fit_transform(X_train_sc)\n",
    "#X_test_pca = rbf_pca.transform(X_test_sc)\n",
    "\n",
    "#OBS: existem ainda, outras formas de fazer essa redução"
   ]
  },
  {
   "cell_type": "code",
   "execution_count": 14,
   "metadata": {
    "id": "ySrMPkjs91mI",
    "ExecuteTime": {
     "end_time": "2023-11-03T19:47:49.544137329Z",
     "start_time": "2023-11-03T19:47:49.537668678Z"
    }
   },
   "outputs": [
    {
     "data": {
      "text/plain": "array([[ 1.02432759e+01, -9.49008142e-02],\n       [-5.04264518e-01, -7.59796063e+00],\n       [-5.35271401e+00,  3.70416103e+00],\n       [ 6.62346689e+00, -1.08253599e+00],\n       [-1.14223454e+01,  8.23357772e+00],\n       [-1.10237422e+01,  4.32502255e+00],\n       [-3.81121808e+00,  1.93822528e+00],\n       [-1.01301098e+01, -2.39049265e+00],\n       [-1.16751632e+01,  6.37515252e+00],\n       [-1.42956454e+01,  5.74539366e+00],\n       [-1.17927995e+01,  5.04803211e+00],\n       [ 9.97858308e+00, -1.26281269e+01],\n       [ 1.15622735e+01, -1.05913810e+01],\n       [-1.27442158e+01,  5.74163560e+00],\n       [-1.39909133e+01,  4.05585538e+00],\n       [-7.66999760e+00,  2.51890446e+00],\n       [-1.47303278e+01,  4.07843090e+00],\n       [ 2.55736422e-01,  4.35625769e+00],\n       [-2.13061532e+00,  8.63247273e-01],\n       [-4.65346972e+00, -3.41934528e+00],\n       [ 5.07470175e-01,  4.14437224e+00],\n       [-8.51609634e+00,  2.95727833e+00],\n       [-1.49099891e+01,  3.60779836e+00],\n       [ 5.70387923e+00, -8.15019810e+00],\n       [-1.60749900e+01,  3.22724905e-01],\n       [-1.03437798e+01,  8.04152889e+00],\n       [ 7.38555463e+00, -5.58233156e+00],\n       [ 1.38242861e+01, -5.61694799e+00],\n       [-7.40181380e+00,  1.80449323e+00],\n       [ 8.85214877e+00, -4.91631348e+00],\n       [-2.78394519e+00, -1.82933430e-01],\n       [ 1.56936667e+01, -6.10741599e+00],\n       [-1.11135635e+01,  6.14869590e+00],\n       [-3.90050920e+00,  3.92287330e+00],\n       [ 2.89821596e+00,  2.08114748e+00],\n       [ 1.91117964e+01, -4.86221199e+00],\n       [-1.53082731e+01,  3.91943682e+00],\n       [-5.65507500e+00,  6.93497459e+00],\n       [ 1.61709495e+00, -5.17151210e+00],\n       [-1.15563710e+01, -1.80373774e+00],\n       [-1.72333056e+01,  4.97508284e+00],\n       [ 1.47100998e+01, -1.67124820e+00],\n       [-1.55864225e+00, -5.90906105e+00],\n       [-4.65443700e+00, -3.25654830e+00],\n       [-1.92601431e+01,  3.21646953e+00],\n       [-8.93875675e+00,  1.80758460e+00],\n       [-1.83824995e+01,  4.49775070e+00],\n       [ 4.33882675e+01,  4.31119846e+01],\n       [-2.31566648e+00, -2.61672902e+00],\n       [-5.63374788e-01, -4.18009489e+00],\n       [-6.99216961e+00, -3.84173270e+00],\n       [-8.66741340e+00, -3.56555047e+00],\n       [-6.91808036e+00,  3.52053952e-01],\n       [ 1.04998001e+01, -7.74508674e+00],\n       [-1.24040647e+01,  4.77609080e+00],\n       [ 5.24524506e+00, -1.20909439e+01],\n       [ 3.42036249e+01,  3.39070057e+00],\n       [-5.54214308e-01, -2.93185399e+00],\n       [-8.21217618e+00, -7.67191741e-01],\n       [ 1.66875061e+00, -5.09101437e+00],\n       [-2.84640522e+00,  8.32197376e+00],\n       [-5.41601595e+00,  4.47733695e+00],\n       [ 1.10282127e+01, -2.88148366e+00],\n       [ 6.85523124e+00, -7.07729991e+00],\n       [ 5.47646607e+00, -4.42905809e+00],\n       [-7.57060710e+00, -2.50373835e+00],\n       [-1.11095913e+00, -3.47309322e+00],\n       [ 7.51840878e-01, -7.11662405e+00],\n       [-4.75382339e+00, -1.41376340e+00],\n       [-1.55981929e+01,  2.00499894e+00],\n       [ 1.59405042e+01, -1.23441214e+01],\n       [-1.11814358e+00, -2.40733590e+00],\n       [ 7.06663110e+00, -6.49027094e+00],\n       [-1.22654382e+01,  1.91773897e+00],\n       [-7.41089626e+00,  5.01580092e+00],\n       [-1.27239859e+01,  3.38458990e+00],\n       [-4.68543833e+00, -1.02666230e+00],\n       [ 6.60633926e+00, -3.85863696e+00],\n       [ 5.42710193e+01,  3.95347945e+01],\n       [-1.28788650e+01,  1.05479922e+00],\n       [ 2.87797097e+01, -4.91245035e-01],\n       [-1.75563793e+01,  5.90149729e+00],\n       [ 2.39137739e+01, -1.50175163e+01],\n       [ 4.69453034e+01,  9.26056679e+00],\n       [-1.88582930e+00,  1.00151902e+01],\n       [-4.36346936e+00, -5.42685105e+00],\n       [-9.38212210e+00,  5.92146744e+00],\n       [ 2.55965505e+01, -2.08227401e+00],\n       [-5.89335760e+00,  3.29555913e+00],\n       [-4.42140551e+00,  5.11863814e-01],\n       [ 1.42212808e+01, -9.98675752e+00],\n       [-1.22691046e+01,  6.99366257e+00],\n       [ 1.48580707e+01, -6.96352685e+00],\n       [-1.74036539e+01,  5.21095275e+00],\n       [ 4.09787857e+01, -1.36282896e+01],\n       [-6.54544447e+00, -9.29788663e-01],\n       [-1.83210165e+00, -6.69229578e+00],\n       [-6.17081839e+00, -1.70037998e+00],\n       [ 2.48203603e+01, -1.04180394e+01],\n       [ 2.70986224e+00,  2.22081549e-01],\n       [ 4.28605112e+00, -3.15254064e+00],\n       [-1.36702159e+01,  6.35217153e+00],\n       [-3.73617938e+00, -5.39994485e+00],\n       [ 5.11073550e+01,  4.16961730e+00],\n       [ 2.09027979e+00, -3.05733984e+00],\n       [ 3.77002713e+01, -8.02993060e+00],\n       [-9.61249093e+00, -1.48081730e+00],\n       [-1.66356963e+01,  3.27606888e+00],\n       [ 2.29135619e+01, -3.75038281e+00],\n       [-6.30786826e+00, -5.81549100e-01],\n       [-2.04636014e+00, -2.62002230e+00],\n       [-5.41359357e+00, -3.00558505e+00],\n       [ 4.29491470e+00, -4.61053732e+00],\n       [ 2.67934848e+01, -7.99652363e-01],\n       [-4.32129279e+00,  3.78604973e+00],\n       [-1.30684311e+01,  3.59551524e+00],\n       [-1.87069200e+01,  4.18724565e+00],\n       [ 2.08392749e+01, -1.09178898e+01],\n       [-8.55628857e+00,  9.18274078e-01],\n       [-5.99945671e+00,  2.74301438e+00],\n       [-1.65179170e+01,  7.16299086e+00],\n       [-2.79945037e+00, -1.43684509e+00],\n       [-1.43987248e+01,  4.14896702e+00],\n       [ 2.02986234e+01, -9.84873815e+00],\n       [-1.18277169e+01, -5.63900415e-01],\n       [ 1.53296092e+01, -1.02369678e+01],\n       [-6.35123128e+00,  5.81450621e+00],\n       [-7.33149152e+00,  3.33765192e+00],\n       [-9.36989292e+00,  6.38172014e-01],\n       [-1.63653728e+01,  1.86911122e+00],\n       [ 4.03570865e+01,  5.06673604e+00],\n       [-1.75419409e+01,  5.19276997e+00],\n       [-6.57180292e+00, -5.56228997e+00],\n       [ 8.90168866e+00, -8.40814958e+00],\n       [-1.62470150e+01,  3.07160481e+00],\n       [-2.04013159e+01,  3.47762256e+00],\n       [ 4.91009505e+01,  3.60820613e+01],\n       [-8.88795425e+00,  5.15835112e+00],\n       [ 1.71049081e+01, -2.38828929e+00],\n       [-4.08397697e-02,  3.10689250e+00],\n       [ 6.65445070e+00, -7.26592349e+00],\n       [ 4.27325425e+00,  2.34327057e-01],\n       [-4.46133965e+00, -3.63638734e+00],\n       [-8.14763863e+00,  6.88158132e+00],\n       [-1.03763106e+01,  3.59791650e+00],\n       [ 5.07948385e+00, -8.46873183e+00],\n       [-4.69769301e+00, -3.86299636e+00],\n       [ 1.31697994e+01, -1.24872063e+01],\n       [-1.03235499e-01, -5.53924013e+00],\n       [-7.00112947e+00,  3.04562705e+00],\n       [ 2.69119873e+00, -1.08927869e+01],\n       [-2.30292518e-01, -1.20899732e+00],\n       [-1.25075241e+00, -1.03371551e+01],\n       [-6.69160881e+00,  1.15904194e+00],\n       [ 5.99868838e+00, -4.74355045e+00],\n       [ 4.26012592e+01,  3.20670686e+00],\n       [-7.89817460e+00,  2.75405364e+00],\n       [ 2.91541214e+00, -2.01252382e+00],\n       [ 1.53639740e+00, -3.34971925e+00],\n       [ 1.12493590e+01, -3.25438808e+00],\n       [-7.56110812e+00, -2.79047930e+00],\n       [ 1.79100689e+01, -8.61521005e+00],\n       [ 7.94777682e+00, -9.46889170e+00],\n       [-1.07844832e+01,  1.57367622e-01],\n       [-1.80002518e+01,  2.66015533e+00],\n       [ 6.06465029e+00, -4.75957651e+00],\n       [-2.51376628e+00, -9.47335548e+00],\n       [-4.67840351e+00,  1.61276692e+00],\n       [ 9.15927866e-01,  1.55396556e-01],\n       [-1.72994312e+01,  8.41995576e+00],\n       [-1.14780323e+01,  2.14869753e+00],\n       [-1.16556389e+01,  6.71783849e+00],\n       [-1.33868683e+01,  2.13706078e+00],\n       [ 1.30874216e+00, -3.34684507e+00],\n       [ 6.48772489e+00,  1.18757045e+00],\n       [-1.17986462e+01,  1.08009464e+01],\n       [-1.00102310e+01,  1.01820582e+01],\n       [-9.71199507e+00,  6.37842165e-01],\n       [ 2.65918513e+00, -6.54541205e+00],\n       [ 2.52766720e+00, -5.05711408e+00],\n       [-8.77980749e+00, -3.34981392e-01],\n       [-3.07406944e+00, -8.71529246e+00],\n       [ 1.70351941e+01, -1.06823894e+01],\n       [ 6.32694147e+00, -1.01899811e+01],\n       [-9.62224687e+00,  3.86610427e-01],\n       [ 2.50340395e+01, -7.50316824e+00],\n       [-1.35673758e+01,  3.06439038e+00],\n       [-8.57653835e+00, -2.16795333e+00],\n       [-1.21711868e+01,  3.06644437e+00],\n       [-5.18918487e+00, -2.15084318e-01],\n       [-1.19073377e+01,  5.82802207e+00],\n       [-1.31596673e+01,  5.74267498e+00],\n       [ 3.40535563e+00,  8.50027674e-02],\n       [ 2.49563001e+00, -7.02930930e+00],\n       [-8.22755334e-01,  4.77538841e+00],\n       [-1.59856948e+01,  6.06421972e+00],\n       [ 1.01280907e+01, -3.54187731e+00],\n       [-1.21653659e+01,  6.04341930e+00],\n       [-5.57887030e-01, -5.13486216e+00],\n       [-1.21539883e+01, -2.42276313e+00],\n       [-7.62133038e+00,  6.99261038e+00],\n       [-5.77010445e+00, -3.74896976e+00],\n       [ 2.49458997e+01, -1.80228302e+01],\n       [-4.50174094e+00,  7.47177789e-01],\n       [-2.14290600e+00,  2.50608322e+00],\n       [-1.76380759e+01,  3.66147227e+00],\n       [-7.23792445e+00,  8.20956397e+00],\n       [-1.01708508e+01,  1.12814518e+01],\n       [ 1.09835056e+01, -1.03184529e+01],\n       [ 2.44215162e+00, -3.34966377e+00],\n       [-2.36015994e+00, -4.77000296e+00],\n       [ 1.74034667e+01, -6.99265701e+00],\n       [-7.52686412e-01, -3.28153693e+00],\n       [-1.06187115e+01,  5.00008564e+00],\n       [-5.26956523e+00, -7.71831856e-02],\n       [ 5.39466626e+01,  4.79912717e+01],\n       [ 6.21958350e+00, -1.87814397e+00],\n       [-1.00752957e+01,  6.79736357e+00],\n       [-9.45086966e+00,  1.02570890e+00],\n       [ 1.13996033e+01, -7.88974999e+00],\n       [ 3.22894045e+00, -3.28862687e-01],\n       [-1.28401820e+01,  3.62495274e+00]])"
     },
     "execution_count": 14,
     "metadata": {},
     "output_type": "execute_result"
    }
   ],
   "source": [
    "X_train_pca"
   ]
  },
  {
   "cell_type": "markdown",
   "source": [
    "#Contruir o modelo de rede neural artificial totalmente conectada"
   ],
   "metadata": {
    "id": "w9egsekPpdyV"
   }
  },
  {
   "cell_type": "code",
   "execution_count": null,
   "metadata": {
    "colab": {
     "background_save": true
    },
    "id": "vS1Zt6IHYViu",
    "is_executing": true
   },
   "outputs": [],
   "source": [
    "# Contruir o modelo de rede neural artificial totalmente conectada\n",
    "from tensorflow.keras import Sequential\n",
    "from tensorflow.keras.layers import Dense\n",
    "\n",
    "ann = Sequential()\n",
    "\n",
    "ann.add(Dense(units = 4, input_dim = 2, activation='relu'))\n",
    "ann.add(Dense(units = 3, activation='relu'))\n",
    "ann.add(Dense(units = 1))\n"
   ]
  },
  {
   "cell_type": "markdown",
   "source": [
    "#Compilar a rede neural"
   ],
   "metadata": {
    "id": "0syXUGpVpg8-"
   }
  },
  {
   "cell_type": "code",
   "execution_count": null,
   "metadata": {
    "colab": {
     "background_save": true
    },
    "id": "uplah-GtYrHr",
    "is_executing": true
   },
   "outputs": [],
   "source": [
    "#compilar a rede neural\n",
    "\n",
    "ann.compile(optimizer = 'adam', loss = 'mean_squared_error', metrics = ['mae'])\n"
   ]
  },
  {
   "cell_type": "code",
   "execution_count": null,
   "metadata": {
    "colab": {
     "background_save": true,
     "base_uri": "https://localhost:8080/"
    },
    "executionInfo": {
     "elapsed": 6,
     "status": "ok",
     "timestamp": 1649336979104,
     "user": {
      "displayName": "Sarvio Valente",
      "userId": "03216459765114495593"
     },
     "user_tz": 180
    },
    "id": "Wjv3A4hIdX4Q",
    "outputId": "174dccaf-5c15-4022-95ab-3de0a35023fe",
    "is_executing": true
   },
   "outputs": [],
   "source": [
    "#visualizar a rede neural criada\n",
    "ann.summary()"
   ]
  },
  {
   "cell_type": "markdown",
   "source": [
    "#treinar a rede neural"
   ],
   "metadata": {
    "id": "05NW3o7yplUq"
   }
  },
  {
   "cell_type": "code",
   "execution_count": null,
   "metadata": {
    "id": "0hJ-hjkrdf0J",
    "is_executing": true
   },
   "outputs": [],
   "source": [
    "#treinar a rede neural\n",
    "\n",
    "history = ann.fit(X_train_pca, y_train, batch_size= 10, validation_split=0.1, epochs = 250)\n",
    "\n"
   ]
  },
  {
   "cell_type": "markdown",
   "source": [
    "#Plotar gráficos"
   ],
   "metadata": {
    "id": "9ZZHBbImpoMZ"
   }
  },
  {
   "cell_type": "code",
   "execution_count": null,
   "metadata": {
    "colab": {
     "base_uri": "https://localhost:8080/",
     "height": 295
    },
    "executionInfo": {
     "elapsed": 27,
     "status": "ok",
     "timestamp": 1649336998340,
     "user": {
      "displayName": "Sarvio Valente",
      "userId": "03216459765114495593"
     },
     "user_tz": 180
    },
    "id": "ZCZ3tyujnot5",
    "outputId": "4d947516-c82b-4d55-ecf1-30013fcbce50",
    "is_executing": true
   },
   "outputs": [],
   "source": [
    "#plotar gráficos\n",
    "import matplotlib.pyplot as plt\n",
    "\n",
    "loss = history.history['loss']\n",
    "val_loss = history.history['val_loss']\n",
    "\n",
    "epochs = range(1, len(loss)+ 1)\n",
    "\n",
    "plt.plot(epochs, loss, 'y', label = \"Treinamento\")\n",
    "plt.plot(epochs, val_loss, 'r', label = \"Validação\")\n",
    "\n",
    "plt.title(\"Treinamento versus validação\")\n",
    "plt.xlabel(\"Epocas\")\n",
    "plt.ylabel(\"Função custo (Loss)\")\n",
    "plt.legend()\n",
    "plt.show()\n",
    "\n"
   ]
  },
  {
   "cell_type": "code",
   "execution_count": null,
   "metadata": {
    "colab": {
     "background_save": true,
     "base_uri": "https://localhost:8080/",
     "height": 295
    },
    "executionInfo": {
     "elapsed": 719,
     "status": "ok",
     "timestamp": 1649336836880,
     "user": {
      "displayName": "Sarvio Valente",
      "userId": "03216459765114495593"
     },
     "user_tz": 180
    },
    "id": "oir8sMnape99",
    "outputId": "8a572ec9-2b2e-42c6-bed9-429f5a7d426e",
    "is_executing": true
   },
   "outputs": [],
   "source": [
    "acc = history.history['mae']\n",
    "\n",
    "val_acc = history.history['val_mae']\n",
    "\n",
    "epochs = range(1, len(loss)+ 1)\n",
    "\n",
    "plt.plot(epochs, acc, 'y', label = \"Treinamento\")\n",
    "plt.plot(epochs, val_acc, 'r', label = \"Validação\")\n",
    "\n",
    "plt.title(\"Treinamento versus validação\")\n",
    "plt.xlabel(\"Epocas\")\n",
    "plt.ylabel(\"Função custo (Loss)\")\n",
    "plt.legend()\n",
    "plt.show()\n"
   ]
  },
  {
   "cell_type": "markdown",
   "source": [
    "#Predição nos dados de teste"
   ],
   "metadata": {
    "id": "fhmmEufWprHY"
   }
  },
  {
   "cell_type": "code",
   "execution_count": null,
   "metadata": {
    "colab": {
     "background_save": true,
     "base_uri": "https://localhost:8080/",
     "height": 302
    },
    "executionInfo": {
     "elapsed": 4074,
     "status": "ok",
     "timestamp": 1649336856711,
     "user": {
      "displayName": "Sarvio Valente",
      "userId": "03216459765114495593"
     },
     "user_tz": 180
    },
    "id": "XBi-STE-pebw",
    "outputId": "736685b1-ad8c-4fc4-e3bd-a96280ce408b",
    "is_executing": true
   },
   "outputs": [],
   "source": [
    "#predição dos dados de teste\n",
    "y_pred = ann.predict(X_test_pca)\n",
    "\n",
    "plt.scatter(y_test, y_pred)\n",
    "plt.show()\n"
   ]
  },
  {
   "cell_type": "code",
   "execution_count": null,
   "metadata": {
    "colab": {
     "background_save": true,
     "base_uri": "https://localhost:8080/"
    },
    "executionInfo": {
     "elapsed": 4257,
     "status": "ok",
     "timestamp": 1649336876525,
     "user": {
      "displayName": "Sarvio Valente",
      "userId": "03216459765114495593"
     },
     "user_tz": 180
    },
    "id": "NZxF2NYdoXSz",
    "outputId": "a4eef9fd-1aaa-446d-90e1-d1a7acfd175a",
    "is_executing": true
   },
   "outputs": [],
   "source": [
    "from sklearn.linear_model import LinearRegression\n",
    "from sklearn.metrics import mean_squared_error, mean_absolute_error\n",
    "\n",
    "linear = LinearRegression()\n",
    "linear.fit(y_test, y_pred)\n",
    "\n",
    "r2 = linear.score(y_test, y_pred)\n",
    "mae = mean_absolute_error(y_test, y_pred)\n",
    "mse = mean_squared_error(y_test, y_pred)\n",
    "\n",
    "print('R2 = ', round(r2, 2))\n",
    "print(\"MAE = \", round(mae, 2))\n",
    "print(\"MSE = \", round(mse, 2))"
   ]
  },
  {
   "cell_type": "markdown",
   "source": [
    "#Traçar a curva de regressão nos dados preditos versus observados"
   ],
   "metadata": {
    "id": "Yfy7z40EpuxA"
   }
  },
  {
   "cell_type": "code",
   "execution_count": null,
   "metadata": {
    "colab": {
     "base_uri": "https://localhost:8080/",
     "height": 320
    },
    "executionInfo": {
     "elapsed": 8,
     "status": "ok",
     "timestamp": 1649335872167,
     "user": {
      "displayName": "Sarvio Valente",
      "userId": "03216459765114495593"
     },
     "user_tz": 180
    },
    "id": "7riVCGkOs_z-",
    "outputId": "153341bc-93c6-4493-8a76-7ef84c7464be",
    "is_executing": true
   },
   "outputs": [],
   "source": [
    "#predição dos dados de teste\n",
    "y_pred = ann.predict(X_test_pca)\n",
    "\n",
    "y = np.arange(0, 1200)\n",
    "y = np.expand_dims(y, axis=1)\n",
    "\n",
    "yp = linear.predict(y)\n",
    "\n",
    "plt.scatter(y_test, y_pred)\n",
    "plt.plot(y, yp)\n",
    "plt.show()"
   ]
  },
  {
   "cell_type": "code",
   "execution_count": null,
   "metadata": {
    "id": "pNHuf_prsYll",
    "is_executing": true
   },
   "outputs": [],
   "source": []
  }
 ],
 "metadata": {
  "colab": {
   "collapsed_sections": [],
   "name": "deepLearning_regressao.ipynb",
   "provenance": [],
   "mount_file_id": "1Zz0cOLT67woZf9AuXEj995NEIEg6-5qZ",
   "authorship_tag": "ABX9TyOYR/ZmnXQfKhWJWwlpHWTG"
  },
  "kernelspec": {
   "name": "python3",
   "language": "python",
   "display_name": "Python 3"
  },
  "language_info": {
   "name": "python"
  }
 },
 "nbformat": 4,
 "nbformat_minor": 0
}
