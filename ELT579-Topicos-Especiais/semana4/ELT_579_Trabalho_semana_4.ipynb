{
  "cells": [
    {
      "cell_type": "code",
      "execution_count": 3,
      "metadata": {
        "id": "R0uZrViPmsar"
      },
      "outputs": [],
      "source": [
        "import numpy as np\n",
        "import cv2\n",
        "import os\n",
        "from PIL import Image\n",
        "import tensorflow as tf"
      ]
    },
    {
      "cell_type": "code",
      "execution_count": 4,
      "metadata": {
        "id": "h6m0mzjznsi_"
      },
      "outputs": [],
      "source": [
        "FOLDER = 'imagens_celulas_1000/'\n",
        "# FOLDER = 'cell_images/'\n",
        "positivas = os.listdir(FOLDER + 'positivos/')\n",
        "negativas = os.listdir(FOLDER + 'negativos/')\n"
      ]
    },
    {
      "cell_type": "code",
      "execution_count": 5,
      "metadata": {
        "id": "j_h-mUjKob2F"
      },
      "outputs": [
        {
          "name": "stdout",
          "output_type": "stream",
          "text": [
            "reading positives\n",
            "reading negatives\n"
          ]
        }
      ],
      "source": [
        "dataset = list()\n",
        "\n",
        "SIZE = 64\n",
        "label = list()\n",
        "\n",
        "print('reading positives')\n",
        "for i, image_name in enumerate(positivas):\n",
        "  if (image_name.split('.')[1]== 'png'):\n",
        "    image = cv2.imread(FOLDER + 'positivos/' + image_name)\n",
        "    image = Image.fromarray(image, 'RGB')\n",
        "    image = image.resize((SIZE,SIZE))\n",
        "    dataset.append(np.array(image))\n",
        "    label.append(1)\n",
        "\n",
        "print('reading negatives')\n",
        "for i, image_name in enumerate(negativas):\n",
        "  if (image_name.split('.')[1]== 'png'):\n",
        "    image = cv2.imread(FOLDER + 'negativos/' + image_name)\n",
        "    image = Image.fromarray(image, 'RGB')\n",
        "    image = image.resize((SIZE,SIZE))\n",
        "    dataset.append(np.array(image))\n",
        "    label.append(0)"
      ]
    },
    {
      "cell_type": "code",
      "execution_count": 6,
      "metadata": {
        "colab": {
          "base_uri": "https://localhost:8080/",
          "height": 487
        },
        "id": "MUFKN7vwod2E",
        "outputId": "fec73fa9-82d8-427f-ff14-5c366dde5e44"
      },
      "outputs": [
        {
          "name": "stdout",
          "output_type": "stream",
          "text": [
            "label =  1\n",
            "imagem\n"
          ]
        },
        {
          "data": {
            "text/plain": [
              "<matplotlib.image.AxesImage at 0x7f8585f4dbd0>"
            ]
          },
          "execution_count": 6,
          "metadata": {},
          "output_type": "execute_result"
        },
        {
          "data": {
            "image/png": "[encoded data removed]",
            "text/plain": [
              "<Figure size 640x480 with 1 Axes>"
            ]
          },
          "metadata": {},
          "output_type": "display_data"
        }
      ],
      "source": [
        "import matplotlib.pyplot as plt\n",
        "index = 10\n",
        "print('label = ', label[index])\n",
        "print('imagem')\n",
        "plt.imshow(dataset[index])"
      ]
    },
    {
      "cell_type": "code",
      "execution_count": 7,
      "metadata": {
        "colab": {
          "base_uri": "https://localhost:8080/"
        },
        "id": "qwAXYTBnuJ4J",
        "outputId": "5662b1a6-f055-4495-9d1f-59c436982349"
      },
      "outputs": [
        {
          "name": "stdout",
          "output_type": "stream",
          "text": [
            "(2000, 64, 64, 3)\n",
            "(1800, 64, 64, 3)\n",
            "(1800, 2)\n"
          ]
        }
      ],
      "source": [
        "X = np.array(dataset)\n",
        "X = X/255\n",
        "\n",
        "print(np.shape(X))\n",
        "\n",
        "y = tf.keras.utils.to_categorical(np.array(label))\n",
        "\n",
        "from sklearn.model_selection import train_test_split\n",
        "\n",
        "X_train, X_test, y_train, y_test = train_test_split(X, y, test_size = 0.10, random_state = 0)\n",
        "print(np.shape(X_train))\n",
        "print(np.shape(y_train))"
      ]
    },
    {
      "cell_type": "code",
      "execution_count": 18,
      "metadata": {
        "colab": {
          "base_uri": "https://localhost:8080/"
        },
        "id": "SQWQYsXcwFm7",
        "outputId": "729f6662-f553-4eee-b866-055a83602680"
      },
      "outputs": [
        {
          "name": "stdout",
          "output_type": "stream",
          "text": [
            "Model: \"model_2\"\n",
            "_________________________________________________________________\n",
            " Layer (type)                Output Shape              Param #   \n",
            "=================================================================\n",
            " input_3 (InputLayer)        [(None, 64, 64, 3)]       0         \n",
            "                                                                 \n",
            " conv2d_6 (Conv2D)           (None, 64, 64, 32)        896       \n",
            "                                                                 \n",
            " max_pooling2d_6 (MaxPoolin  (None, 32, 32, 32)        0         \n",
            " g2D)                                                            \n",
            "                                                                 \n",
            " dropout_10 (Dropout)        (None, 32, 32, 32)        0         \n",
            "                                                                 \n",
            " conv2d_7 (Conv2D)           (None, 32, 32, 32)        9248      \n",
            "                                                                 \n",
            " max_pooling2d_7 (MaxPoolin  (None, 16, 16, 32)        0         \n",
            " g2D)                                                            \n",
            "                                                                 \n",
            " dropout_11 (Dropout)        (None, 16, 16, 32)        0         \n",
            "                                                                 \n",
            " conv2d_8 (Conv2D)           (None, 16, 16, 32)        9248      \n",
            "                                                                 \n",
            " max_pooling2d_8 (MaxPoolin  (None, 8, 8, 32)          0         \n",
            " g2D)                                                            \n",
            "                                                                 \n",
            " dropout_12 (Dropout)        (None, 8, 8, 32)          0         \n",
            "                                                                 \n",
            " conv2d_9 (Conv2D)           (None, 8, 8, 32)          9248      \n",
            "                                                                 \n",
            " max_pooling2d_9 (MaxPoolin  (None, 4, 4, 32)          0         \n",
            " g2D)                                                            \n",
            "                                                                 \n",
            " dropout_13 (Dropout)        (None, 4, 4, 32)          0         \n",
            "                                                                 \n",
            " flatten_2 (Flatten)         (None, 512)               0         \n",
            "                                                                 \n",
            " dense_6 (Dense)             (None, 512)               262656    \n",
            "                                                                 \n",
            " dropout_14 (Dropout)        (None, 512)               0         \n",
            "                                                                 \n",
            " dense_7 (Dense)             (None, 256)               131328    \n",
            "                                                                 \n",
            " dropout_15 (Dropout)        (None, 256)               0         \n",
            "                                                                 \n",
            " dense_8 (Dense)             (None, 2)                 514       \n",
            "                                                                 \n",
            "=================================================================\n",
            "Total params: 423138 (1.61 MB)\n",
            "Trainable params: 423138 (1.61 MB)\n",
            "Non-trainable params: 0 (0.00 Byte)\n",
            "_________________________________________________________________\n"
          ]
        }
      ],
      "source": [
        "TAM = (SIZE, SIZE, 3)\n",
        "inp = tf.keras.Input(shape = TAM)\n",
        "\n",
        "conv1 = tf.keras.layers.Conv2D(32, kernel_size = (3,3), activation = 'relu', padding = 'same', dilation_rate=2)(inp)\n",
        "\n",
        "pool1 = tf.keras.layers.MaxPooling2D(pool_size=(2,2))(conv1)\n",
        "\n",
        "drop1 = tf.keras.layers.Dropout(rate = 0.2)(pool1)\n",
        "\n",
        "\n",
        "conv2 = tf.keras.layers.Conv2D(32, kernel_size = (3,3), activation = 'relu', padding = 'same', dilation_rate=2)(drop1)\n",
        "\n",
        "pool2 = tf.keras.layers.MaxPooling2D(pool_size=(2,2))(conv2)\n",
        "\n",
        "drop2 = tf.keras.layers.Dropout(rate = 0.2)(pool2)\n",
        "\n",
        "\n",
        "conv3 = tf.keras.layers.Conv2D(32, kernel_size = (3,3), activation = 'relu', padding = 'same', dilation_rate=2)(drop2)\n",
        "\n",
        "pool3 = tf.keras.layers.MaxPooling2D(pool_size=(2,2))(conv3)\n",
        "\n",
        "drop3 = tf.keras.layers.Dropout(rate = 0.2)(pool3)\n",
        "\n",
        "\n",
        "conv4 = tf.keras.layers.Conv2D(32, kernel_size = (3,3), activation = 'relu', padding = 'same', dilation_rate=2)(drop3)\n",
        "\n",
        "pool4 = tf.keras.layers.MaxPooling2D(pool_size=(2,2))(conv4)\n",
        "\n",
        "drop4= tf.keras.layers.Dropout(rate = 0.2)(pool4)\n",
        "\n",
        "\n",
        "flat = tf.keras.layers.Flatten()(drop4)\n",
        "\n",
        "dense1 = tf.keras.layers.Dense(512, activation = 'relu')(flat)\n",
        "drop5  = tf.keras.layers.Dropout(rate = 0.2)(dense1)\n",
        "\n",
        "dense2 = tf.keras.layers.Dense(256, activation = 'relu')(drop5)\n",
        "drop5  = tf.keras.layers.Dropout(rate = 0.2)(dense2)\n",
        "\n",
        "out = tf.keras.layers.Dense(2, activation = 'sigmoid')(drop5)\n",
        "\n",
        "model = tf.keras.Model(inputs = inp, outputs = out)\n",
        "\n",
        "model.compile(optimizer = 'adam', loss='binary_crossentropy', metrics = ['accuracy'])\n",
        "\n",
        "\n",
        "model.summary()"
      ]
    },
    {
      "cell_type": "code",
      "execution_count": 19,
      "metadata": {
        "colab": {
          "base_uri": "https://localhost:8080/"
        },
        "id": "9_ym19WxysDV",
        "outputId": "63a18d62-5252-46cd-f06b-b261403f9d10"
      },
      "outputs": [
        {
          "name": "stdout",
          "output_type": "stream",
          "text": [
            "Epoch 1/30\n",
            "26/26 [==============================] - 4s 109ms/step - loss: 0.6959 - accuracy: 0.5068 - val_loss: 0.6919 - val_accuracy: 0.5722\n",
            "Epoch 2/30\n",
            "26/26 [==============================] - 3s 105ms/step - loss: 0.6928 - accuracy: 0.5185 - val_loss: 0.6904 - val_accuracy: 0.7833\n",
            "Epoch 3/30\n",
            "26/26 [==============================] - 3s 104ms/step - loss: 0.6898 - accuracy: 0.5315 - val_loss: 0.6860 - val_accuracy: 0.5722\n",
            "Epoch 4/30\n",
            "26/26 [==============================] - 3s 104ms/step - loss: 0.6504 - accuracy: 0.6451 - val_loss: 0.6282 - val_accuracy: 0.7167\n",
            "Epoch 5/30\n",
            "26/26 [==============================] - 3s 101ms/step - loss: 0.6064 - accuracy: 0.6722 - val_loss: 0.6111 - val_accuracy: 0.6444\n",
            "Epoch 6/30\n",
            "26/26 [==============================] - 3s 102ms/step - loss: 0.6233 - accuracy: 0.6488 - val_loss: 0.6019 - val_accuracy: 0.7222\n",
            "Epoch 7/30\n",
            "26/26 [==============================] - 3s 104ms/step - loss: 0.5844 - accuracy: 0.6938 - val_loss: 0.5795 - val_accuracy: 0.7444\n",
            "Epoch 8/30\n",
            "26/26 [==============================] - 3s 103ms/step - loss: 0.5889 - accuracy: 0.6716 - val_loss: 0.5720 - val_accuracy: 0.7278\n",
            "Epoch 9/30\n",
            "26/26 [==============================] - 3s 102ms/step - loss: 0.5530 - accuracy: 0.7093 - val_loss: 0.5655 - val_accuracy: 0.6944\n",
            "Epoch 10/30\n",
            "26/26 [==============================] - 3s 105ms/step - loss: 0.5692 - accuracy: 0.6914 - val_loss: 0.5416 - val_accuracy: 0.7444\n",
            "Epoch 11/30\n",
            "26/26 [==============================] - 2s 85ms/step - loss: 0.5515 - accuracy: 0.7160 - val_loss: 0.5728 - val_accuracy: 0.7000\n",
            "Epoch 12/30\n",
            "26/26 [==============================] - 2s 79ms/step - loss: 0.5539 - accuracy: 0.7123 - val_loss: 0.5684 - val_accuracy: 0.6944\n",
            "Epoch 13/30\n",
            "26/26 [==============================] - 2s 77ms/step - loss: 0.5623 - accuracy: 0.6889 - val_loss: 0.5266 - val_accuracy: 0.7389\n",
            "Epoch 14/30\n",
            "26/26 [==============================] - 2s 79ms/step - loss: 0.5363 - accuracy: 0.7179 - val_loss: 0.5949 - val_accuracy: 0.6556\n",
            "Epoch 15/30\n",
            "26/26 [==============================] - 2s 76ms/step - loss: 0.5675 - accuracy: 0.6679 - val_loss: 0.5115 - val_accuracy: 0.7667\n",
            "Epoch 16/30\n",
            "26/26 [==============================] - 2s 77ms/step - loss: 0.5237 - accuracy: 0.7173 - val_loss: 0.5150 - val_accuracy: 0.7333\n",
            "Epoch 17/30\n",
            "26/26 [==============================] - 2s 76ms/step - loss: 0.5932 - accuracy: 0.6383 - val_loss: 0.6364 - val_accuracy: 0.6333\n",
            "Epoch 18/30\n",
            "26/26 [==============================] - 2s 76ms/step - loss: 0.5641 - accuracy: 0.6821 - val_loss: 0.5030 - val_accuracy: 0.7778\n",
            "Epoch 19/30\n",
            "26/26 [==============================] - 2s 78ms/step - loss: 0.5112 - accuracy: 0.7272 - val_loss: 0.5199 - val_accuracy: 0.7500\n",
            "Epoch 20/30\n",
            "26/26 [==============================] - 2s 80ms/step - loss: 0.5036 - accuracy: 0.7383 - val_loss: 0.5488 - val_accuracy: 0.7889\n",
            "Epoch 21/30\n",
            "26/26 [==============================] - 2s 76ms/step - loss: 0.4895 - accuracy: 0.7519 - val_loss: 0.5014 - val_accuracy: 0.8389\n",
            "Epoch 22/30\n",
            "26/26 [==============================] - 2s 75ms/step - loss: 0.3923 - accuracy: 0.8241 - val_loss: 0.3861 - val_accuracy: 0.8111\n",
            "Epoch 23/30\n",
            "26/26 [==============================] - 2s 75ms/step - loss: 0.3163 - accuracy: 0.8716 - val_loss: 0.2633 - val_accuracy: 0.9056\n",
            "Epoch 24/30\n",
            "26/26 [==============================] - 2s 75ms/step - loss: 0.2246 - accuracy: 0.9142 - val_loss: 0.2785 - val_accuracy: 0.8722\n",
            "Epoch 25/30\n",
            "26/26 [==============================] - 2s 75ms/step - loss: 0.2242 - accuracy: 0.9216 - val_loss: 0.2332 - val_accuracy: 0.9000\n",
            "Epoch 26/30\n",
            "26/26 [==============================] - 2s 80ms/step - loss: 0.2016 - accuracy: 0.9333 - val_loss: 0.1925 - val_accuracy: 0.9222\n",
            "Epoch 27/30\n",
            "26/26 [==============================] - 2s 78ms/step - loss: 0.1653 - accuracy: 0.9389 - val_loss: 0.1811 - val_accuracy: 0.9278\n",
            "Epoch 28/30\n",
            "26/26 [==============================] - 2s 75ms/step - loss: 0.1426 - accuracy: 0.9549 - val_loss: 0.1722 - val_accuracy: 0.9278\n",
            "Epoch 29/30\n",
            "26/26 [==============================] - 2s 75ms/step - loss: 0.1451 - accuracy: 0.9469 - val_loss: 0.1347 - val_accuracy: 0.9500\n",
            "Epoch 30/30\n",
            "26/26 [==============================] - 2s 75ms/step - loss: 0.1880 - accuracy: 0.9333 - val_loss: 0.1654 - val_accuracy: 0.9333\n"
          ]
        }
      ],
      "source": [
        "history = model.fit(X_train, y_train, batch_size = 64, verbose = 1, epochs = 30, validation_split = 0.1)"
      ]
    },
    {
      "cell_type": "code",
      "execution_count": 20,
      "metadata": {
        "colab": {
          "base_uri": "https://localhost:8080/",
          "height": 472
        },
        "id": "UJeEwzdPzc-J",
        "outputId": "b5722840-e81d-4957-ec4f-ad51844fe621"
      },
      "outputs": [
        {
          "data": {
            "image/png": "[encoded data removed]",
            "text/plain": [
              "<Figure size 640x480 with 1 Axes>"
            ]
          },
          "metadata": {},
          "output_type": "display_data"
        }
      ],
      "source": [
        "import matplotlib.pyplot as plt\n",
        "\n",
        "loss = history.history['accuracy']\n",
        "val_loss = history.history['val_accuracy']\n",
        "\n",
        "epochs = range(1, len(loss) + 1)\n",
        "\n",
        "plt.plot(epochs, loss, 'y', label = \"Treinamento\")\n",
        "plt.plot(epochs, val_loss, 'r', label = \"Validacao\")\n",
        "\n",
        "plt.title(\"Treinamento versus validacao\")\n",
        "plt.xlabel(\"epocas\")\n",
        "plt.xlabel(\"Acuracia Globalp\")\n",
        "plt.legend()\n",
        "plt.show()"
      ]
    },
    {
      "cell_type": "code",
      "execution_count": 21,
      "metadata": {
        "colab": {
          "base_uri": "https://localhost:8080/",
          "height": 181
        },
        "id": "n_hA9VRP0L5S",
        "outputId": "965c6290-15d2-4acd-b0df-dca6d25a35f2"
      },
      "outputs": [
        {
          "name": "stderr",
          "output_type": "stream",
          "text": [
            "/home/teixeira/.pyenv/versions/3.11.5/envs/opencv/lib/python3.11/site-packages/keras/src/engine/training.py:3079: UserWarning: You are saving your model as an HDF5 file via `model.save()`. This file format is considered legacy. We recommend using instead the native Keras format, e.g. `model.save('my_model.keras')`.\n",
            "  saving_api.save_model(\n"
          ]
        }
      ],
      "source": [
        "MODEL_NAME='malaria_model.h5'\n",
        "model.save(MODEL_NAME)\n"
      ]
    },
    {
      "cell_type": "code",
      "execution_count": 22,
      "metadata": {
        "id": "o58yDN_hqVsd"
      },
      "outputs": [
        {
          "name": "stdout",
          "output_type": "stream",
          "text": [
            "7/7 [==============================] - 0s 11ms/step - loss: 0.1451 - accuracy: 0.9650\n",
            "0.9649999737739563\n"
          ]
        }
      ],
      "source": [
        "from tensorflow.keras.models import load_model\n",
        "\n",
        "model = load_model(MODEL_NAME)\n",
        "\n",
        "_, score = model.evaluate(X_test, y_test)\n",
        "\n",
        "# accuracy: 0.9650\n",
        "print(score)\n"
      ]
    }
  ],
  "metadata": {
    "accelerator": "GPU",
    "colab": {
      "gpuType": "T4",
      "provenance": []
    },
    "kernelspec": {
      "display_name": "Python 3",
      "name": "python3"
    },
    "language_info": {
      "codemirror_mode": {
        "name": "ipython",
        "version": 3
      },
      "file_extension": ".py",
      "mimetype": "text/x-python",
      "name": "python",
      "nbconvert_exporter": "python",
      "pygments_lexer": "ipython3",
      "version": "3.11.5"
    }
  },
  "nbformat": 4,
  "nbformat_minor": 0
}
