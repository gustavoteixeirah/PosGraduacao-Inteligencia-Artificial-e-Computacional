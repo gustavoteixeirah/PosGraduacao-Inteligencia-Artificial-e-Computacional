{
  "cells": [
    {
      "cell_type": "code",
      "execution_count": 22,
      "metadata": {
        "id": "R0uZrViPmsar"
      },
      "outputs": [],
      "source": [
        "import numpy as np\n",
        "import cv2\n",
        "import os\n",
        "from PIL import Image\n",
        "import tensorflow as tf"
      ]
    },
    {
      "cell_type": "code",
      "execution_count": 23,
      "metadata": {
        "id": "h6m0mzjznsi_"
      },
      "outputs": [],
      "source": [
        "FOLDER = 'imagens_celulas_1000/'\n",
        "# FOLDER = 'cell_images/'\n",
        "positivas = os.listdir(FOLDER + 'positivos/')\n",
        "negativas = os.listdir(FOLDER + 'negativos/')\n"
      ]
    },
    {
      "cell_type": "code",
      "execution_count": 24,
      "metadata": {
        "id": "j_h-mUjKob2F"
      },
      "outputs": [
        {
          "name": "stdout",
          "output_type": "stream",
          "text": [
            "reading positives\n",
            "reading negatives\n"
          ]
        }
      ],
      "source": [
        "dataset = list()\n",
        "\n",
        "SIZE = 64\n",
        "label = list()\n",
        "\n",
        "print('reading positives')\n",
        "for i, image_name in enumerate(positivas):\n",
        "  if (image_name.split('.')[1]== 'png'):\n",
        "    image = cv2.imread(FOLDER + 'positivos/' + image_name)\n",
        "    image = Image.fromarray(image, 'RGB')\n",
        "    image = image.resize((SIZE,SIZE))\n",
        "    dataset.append(np.array(image))\n",
        "    label.append(1)\n",
        "\n",
        "print('reading negatives')\n",
        "for i, image_name in enumerate(negativas):\n",
        "  if (image_name.split('.')[1]== 'png'):\n",
        "    image = cv2.imread(FOLDER + 'negativos/' + image_name)\n",
        "    image = Image.fromarray(image, 'RGB')\n",
        "    image = image.resize((SIZE,SIZE))\n",
        "    dataset.append(np.array(image))\n",
        "    label.append(0)"
      ]
    },
    {
      "cell_type": "code",
      "execution_count": 25,
      "metadata": {
        "colab": {
          "base_uri": "https://localhost:8080/",
          "height": 487
        },
        "id": "MUFKN7vwod2E",
        "outputId": "fec73fa9-82d8-427f-ff14-5c366dde5e44"
      },
      "outputs": [
        {
          "name": "stdout",
          "output_type": "stream",
          "text": [
            "label =  1\n",
            "imagem\n"
          ]
        },
        {
          "data": {
            "text/plain": [
              "<matplotlib.image.AxesImage at 0x7fe322e5dd50>"
            ]
          },
          "execution_count": 25,
          "metadata": {},
          "output_type": "execute_result"
        },
        {
          "data": {
            "image/png": "[encoded data removed]",
            "text/plain": [
              "<Figure size 640x480 with 1 Axes>"
            ]
          },
          "metadata": {},
          "output_type": "display_data"
        }
      ],
      "source": [
        "import matplotlib.pyplot as plt\n",
        "index = 10\n",
        "print('label = ', label[index])\n",
        "print('imagem')\n",
        "plt.imshow(dataset[index])"
      ]
    },
    {
      "cell_type": "code",
      "execution_count": 26,
      "metadata": {
        "colab": {
          "base_uri": "https://localhost:8080/"
        },
        "id": "qwAXYTBnuJ4J",
        "outputId": "5662b1a6-f055-4495-9d1f-59c436982349"
      },
      "outputs": [
        {
          "name": "stdout",
          "output_type": "stream",
          "text": [
            "(2000, 64, 64, 3)\n",
            "(1800, 64, 64, 3)\n",
            "(1800, 2)\n"
          ]
        }
      ],
      "source": [
        "X = np.array(dataset)\n",
        "X = X/255\n",
        "\n",
        "print(np.shape(X))\n",
        "\n",
        "y = tf.keras.utils.to_categorical(np.array(label))\n",
        "\n",
        "from sklearn.model_selection import train_test_split\n",
        "\n",
        "X_train, X_test, y_train, y_test = train_test_split(X, y, test_size = 0.10, random_state = 0)\n",
        "print(np.shape(X_train))\n",
        "print(np.shape(y_train))"
      ]
    },
    {
      "cell_type": "code",
      "execution_count": 27,
      "metadata": {
        "colab": {
          "base_uri": "https://localhost:8080/"
        },
        "id": "SQWQYsXcwFm7",
        "outputId": "729f6662-f553-4eee-b866-055a83602680"
      },
      "outputs": [
        {
          "name": "stdout",
          "output_type": "stream",
          "text": [
            "Model: \"model_2\"\n",
            "_________________________________________________________________\n",
            " Layer (type)                Output Shape              Param #   \n",
            "=================================================================\n",
            " input_3 (InputLayer)        [(None, 64, 64, 3)]       0         \n",
            "                                                                 \n",
            " conv2d_4 (Conv2D)           (None, 64, 64, 32)        896       \n",
            "                                                                 \n",
            " max_pooling2d_4 (MaxPoolin  (None, 32, 32, 32)        0         \n",
            " g2D)                                                            \n",
            "                                                                 \n",
            " dropout_8 (Dropout)         (None, 32, 32, 32)        0         \n",
            "                                                                 \n",
            " conv2d_5 (Conv2D)           (None, 32, 32, 32)        9248      \n",
            "                                                                 \n",
            " max_pooling2d_5 (MaxPoolin  (None, 16, 16, 32)        0         \n",
            " g2D)                                                            \n",
            "                                                                 \n",
            " dropout_9 (Dropout)         (None, 16, 16, 32)        0         \n",
            "                                                                 \n",
            " conv2d_6 (Conv2D)           (None, 16, 16, 32)        9248      \n",
            "                                                                 \n",
            " max_pooling2d_6 (MaxPoolin  (None, 8, 8, 32)          0         \n",
            " g2D)                                                            \n",
            "                                                                 \n",
            " dropout_10 (Dropout)        (None, 8, 8, 32)          0         \n",
            "                                                                 \n",
            " flatten_2 (Flatten)         (None, 2048)              0         \n",
            "                                                                 \n",
            " dense_6 (Dense)             (None, 512)               1049088   \n",
            "                                                                 \n",
            " dropout_11 (Dropout)        (None, 512)               0         \n",
            "                                                                 \n",
            " dense_7 (Dense)             (None, 256)               131328    \n",
            "                                                                 \n",
            " dropout_12 (Dropout)        (None, 256)               0         \n",
            "                                                                 \n",
            " dense_8 (Dense)             (None, 2)                 514       \n",
            "                                                                 \n",
            "=================================================================\n",
            "Total params: 1200322 (4.58 MB)\n",
            "Trainable params: 1200322 (4.58 MB)\n",
            "Non-trainable params: 0 (0.00 Byte)\n",
            "_________________________________________________________________\n"
          ]
        }
      ],
      "source": [
        "TAM = (SIZE, SIZE, 3)\n",
        "inp = tf.keras.Input(shape = TAM)\n",
        "\n",
        "conv1 = tf.keras.layers.Conv2D(32, kernel_size = (3,3), activation = 'relu', padding = 'same')(inp)\n",
        "\n",
        "pool1 = tf.keras.layers.MaxPooling2D(pool_size=(2,2))(conv1)\n",
        "\n",
        "drop1 = tf.keras.layers.Dropout(rate = 0.2)(pool1)\n",
        "\n",
        "\n",
        "conv2 = tf.keras.layers.Conv2D(32, kernel_size = (3,3), activation = 'relu', padding = 'same')(drop1)\n",
        "\n",
        "pool2 = tf.keras.layers.MaxPooling2D(pool_size=(2,2))(conv2)\n",
        "\n",
        "drop2 = tf.keras.layers.Dropout(rate = 0.2)(pool2)\n",
        "\n",
        "\n",
        "conv3 = tf.keras.layers.Conv2D(32, kernel_size = (3,3), activation = 'relu', padding = 'same')(drop2)\n",
        "\n",
        "pool3 = tf.keras.layers.MaxPooling2D(pool_size=(2,2))(conv3)\n",
        "\n",
        "drop3 = tf.keras.layers.Dropout(rate = 0.2)(pool3)\n",
        "\n",
        "\n",
        "flat = tf.keras.layers.Flatten()(drop3)\n",
        "\n",
        "dense1 = tf.keras.layers.Dense(512, activation = 'relu')(flat)\n",
        "drop4  = tf.keras.layers.Dropout(rate = 0.2)(dense1)\n",
        "\n",
        "dense2 = tf.keras.layers.Dense(256, activation = 'relu')(drop4)\n",
        "drop5  = tf.keras.layers.Dropout(rate = 0.2)(dense2)\n",
        "\n",
        "out = tf.keras.layers.Dense(2, activation = 'sigmoid')(drop5)\n",
        "\n",
        "model = tf.keras.Model(inputs = inp, outputs = out)\n",
        "\n",
        "model.compile(optimizer = 'adam', loss='binary_crossentropy', metrics = ['accuracy'])\n",
        "\n",
        "\n",
        "model.summary()"
      ]
    },
    {
      "cell_type": "code",
      "execution_count": 28,
      "metadata": {
        "colab": {
          "base_uri": "https://localhost:8080/"
        },
        "id": "9_ym19WxysDV",
        "outputId": "63a18d62-5252-46cd-f06b-b261403f9d10"
      },
      "outputs": [
        {
          "name": "stdout",
          "output_type": "stream",
          "text": [
            "Epoch 1/20\n",
            "26/26 [==============================] - 3s 69ms/step - loss: 0.6996 - accuracy: 0.4963 - val_loss: 0.6910 - val_accuracy: 0.4333\n",
            "Epoch 2/20\n",
            "26/26 [==============================] - 1s 58ms/step - loss: 0.6907 - accuracy: 0.5222 - val_loss: 0.6730 - val_accuracy: 0.5611\n",
            "Epoch 3/20\n",
            "26/26 [==============================] - 2s 58ms/step - loss: 0.6566 - accuracy: 0.6068 - val_loss: 0.6335 - val_accuracy: 0.5944\n",
            "Epoch 4/20\n",
            "26/26 [==============================] - 2s 58ms/step - loss: 0.5904 - accuracy: 0.6809 - val_loss: 0.5902 - val_accuracy: 0.6778\n",
            "Epoch 5/20\n",
            "26/26 [==============================] - 2s 58ms/step - loss: 0.5772 - accuracy: 0.6846 - val_loss: 0.5176 - val_accuracy: 0.7556\n",
            "Epoch 6/20\n",
            "26/26 [==============================] - 2s 58ms/step - loss: 0.5736 - accuracy: 0.6957 - val_loss: 0.5730 - val_accuracy: 0.7111\n",
            "Epoch 7/20\n",
            "26/26 [==============================] - 2s 58ms/step - loss: 0.5447 - accuracy: 0.7111 - val_loss: 0.5203 - val_accuracy: 0.7944\n",
            "Epoch 8/20\n",
            "26/26 [==============================] - 2s 58ms/step - loss: 0.5391 - accuracy: 0.7099 - val_loss: 0.5029 - val_accuracy: 0.7778\n",
            "Epoch 9/20\n",
            "26/26 [==============================] - 1s 58ms/step - loss: 0.5010 - accuracy: 0.7395 - val_loss: 0.4570 - val_accuracy: 0.7889\n",
            "Epoch 10/20\n",
            "26/26 [==============================] - 2s 59ms/step - loss: 0.4930 - accuracy: 0.7463 - val_loss: 0.4769 - val_accuracy: 0.7778\n",
            "Epoch 11/20\n",
            "26/26 [==============================] - 2s 59ms/step - loss: 0.4501 - accuracy: 0.7846 - val_loss: 0.4203 - val_accuracy: 0.7833\n",
            "Epoch 12/20\n",
            "26/26 [==============================] - 2s 58ms/step - loss: 0.4736 - accuracy: 0.7827 - val_loss: 0.5292 - val_accuracy: 0.7389\n",
            "Epoch 13/20\n",
            "26/26 [==============================] - 2s 58ms/step - loss: 0.6080 - accuracy: 0.6586 - val_loss: 0.5688 - val_accuracy: 0.7556\n",
            "Epoch 14/20\n",
            "26/26 [==============================] - 1s 57ms/step - loss: 0.4752 - accuracy: 0.7617 - val_loss: 0.3668 - val_accuracy: 0.8500\n",
            "Epoch 15/20\n",
            "26/26 [==============================] - 1s 58ms/step - loss: 0.4832 - accuracy: 0.7562 - val_loss: 0.4356 - val_accuracy: 0.8556\n",
            "Epoch 16/20\n",
            "26/26 [==============================] - 2s 59ms/step - loss: 0.4358 - accuracy: 0.7957 - val_loss: 0.2886 - val_accuracy: 0.8722\n",
            "Epoch 17/20\n",
            "26/26 [==============================] - 2s 58ms/step - loss: 0.3701 - accuracy: 0.8352 - val_loss: 0.3113 - val_accuracy: 0.8611\n",
            "Epoch 18/20\n",
            "26/26 [==============================] - 2s 58ms/step - loss: 0.3014 - accuracy: 0.8759 - val_loss: 0.2917 - val_accuracy: 0.8556\n",
            "Epoch 19/20\n",
            "26/26 [==============================] - 2s 58ms/step - loss: 0.2404 - accuracy: 0.8988 - val_loss: 0.2055 - val_accuracy: 0.9000\n",
            "Epoch 20/20\n",
            "26/26 [==============================] - 2s 58ms/step - loss: 0.1991 - accuracy: 0.9278 - val_loss: 0.1706 - val_accuracy: 0.9278\n"
          ]
        }
      ],
      "source": [
        "history = model.fit(X_train, y_train, batch_size = 64, verbose = 1, epochs = 20, validation_split = 0.1)"
      ]
    },
    {
      "cell_type": "code",
      "execution_count": 29,
      "metadata": {
        "colab": {
          "base_uri": "https://localhost:8080/",
          "height": 472
        },
        "id": "UJeEwzdPzc-J",
        "outputId": "b5722840-e81d-4957-ec4f-ad51844fe621"
      },
      "outputs": [
        {
          "data": {
            "image/png": "[encoded data removed]",
            "text/plain": [
              "<Figure size 640x480 with 1 Axes>"
            ]
          },
          "metadata": {},
          "output_type": "display_data"
        }
      ],
      "source": [
        "import matplotlib.pyplot as plt\n",
        "\n",
        "loss = history.history['accuracy']\n",
        "val_loss = history.history['val_accuracy']\n",
        "\n",
        "epochs = range(1, len(loss) + 1)\n",
        "\n",
        "plt.plot(epochs, loss, 'y', label = \"Treinamento\")\n",
        "plt.plot(epochs, val_loss, 'r', label = \"Validacao\")\n",
        "\n",
        "plt.title(\"Treinamento versus validacao\")\n",
        "plt.xlabel(\"epocas\")\n",
        "plt.xlabel(\"Acuracia Globalp\")\n",
        "plt.legend()\n",
        "plt.show()"
      ]
    },
    {
      "cell_type": "code",
      "execution_count": 30,
      "metadata": {
        "colab": {
          "base_uri": "https://localhost:8080/",
          "height": 181
        },
        "id": "n_hA9VRP0L5S",
        "outputId": "965c6290-15d2-4acd-b0df-dca6d25a35f2"
      },
      "outputs": [],
      "source": [
        "MODEL_NAME='malaria_model_size_128.h5'\n",
        "model.save(MODEL_NAME)\n"
      ]
    },
    {
      "cell_type": "code",
      "execution_count": 31,
      "metadata": {
        "id": "o58yDN_hqVsd"
      },
      "outputs": [
        {
          "name": "stdout",
          "output_type": "stream",
          "text": [
            "7/7 [==============================] - 0s 8ms/step - loss: 0.1978 - accuracy: 0.9350\n",
            "0.9350000023841858\n"
          ]
        }
      ],
      "source": [
        "from tensorflow.keras.models import load_model\n",
        "\n",
        "model = load_model(MODEL_NAME)\n",
        "\n",
        "_, score = model.evaluate(X_test, y_test)\n",
        "\n",
        "# 0.95999...\n",
        "# 0.9375\n",
        "# 0.9604499340057373\n",
        "# 0.958635687828064\n",
        "print(score)\n"
      ]
    }
  ],
  "metadata": {
    "accelerator": "GPU",
    "colab": {
      "gpuType": "T4",
      "provenance": []
    },
    "kernelspec": {
      "display_name": "Python 3",
      "name": "python3"
    },
    "language_info": {
      "codemirror_mode": {
        "name": "ipython",
        "version": 3
      },
      "file_extension": ".py",
      "mimetype": "text/x-python",
      "name": "python",
      "nbconvert_exporter": "python",
      "pygments_lexer": "ipython3",
      "version": "3.11.5"
    }
  },
  "nbformat": 4,
  "nbformat_minor": 0
}
