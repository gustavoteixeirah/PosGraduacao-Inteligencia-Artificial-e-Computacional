{
  "cells": [
    {
      "cell_type": "code",
      "execution_count": 45,
      "metadata": {
        "id": "R0uZrViPmsar"
      },
      "outputs": [],
      "source": [
        "import numpy as np\n",
        "import cv2\n",
        "import os\n",
        "from PIL import Image\n",
        "import tensorflow as tf"
      ]
    },
    {
      "cell_type": "code",
      "execution_count": 46,
      "metadata": {
        "id": "h6m0mzjznsi_"
      },
      "outputs": [],
      "source": [
        "FOLDER = 'imagens_celulas_1000/'\n",
        "# FOLDER = 'cell_images/'\n",
        "positivas = os.listdir(FOLDER + 'positivos/')\n",
        "negativas = os.listdir(FOLDER + 'negativos/')\n"
      ]
    },
    {
      "cell_type": "code",
      "execution_count": 47,
      "metadata": {
        "id": "j_h-mUjKob2F"
      },
      "outputs": [
        {
          "name": "stdout",
          "output_type": "stream",
          "text": [
            "reading positives\n",
            "reading negatives\n"
          ]
        }
      ],
      "source": [
        "dataset = list()\n",
        "\n",
        "SIZE = 64\n",
        "label = list()\n",
        "\n",
        "print('reading positives')\n",
        "for i, image_name in enumerate(positivas):\n",
        "  if (image_name.split('.')[1]== 'png'):\n",
        "    image = cv2.imread(FOLDER + 'positivos/' + image_name)\n",
        "    image = Image.fromarray(image, 'RGB')\n",
        "    image = image.resize((SIZE,SIZE))\n",
        "    dataset.append(np.array(image))\n",
        "    label.append(1)\n",
        "\n",
        "print('reading negatives')\n",
        "for i, image_name in enumerate(negativas):\n",
        "  if (image_name.split('.')[1]== 'png'):\n",
        "    image = cv2.imread(FOLDER + 'negativos/' + image_name)\n",
        "    image = Image.fromarray(image, 'RGB')\n",
        "    image = image.resize((SIZE,SIZE))\n",
        "    dataset.append(np.array(image))\n",
        "    label.append(0)"
      ]
    },
    {
      "cell_type": "code",
      "execution_count": 48,
      "metadata": {
        "colab": {
          "base_uri": "https://localhost:8080/",
          "height": 487
        },
        "id": "MUFKN7vwod2E",
        "outputId": "fec73fa9-82d8-427f-ff14-5c366dde5e44"
      },
      "outputs": [
        {
          "name": "stdout",
          "output_type": "stream",
          "text": [
            "label =  1\n",
            "imagem\n"
          ]
        },
        {
          "data": {
            "text/plain": [
              "<matplotlib.image.AxesImage at 0x7fe314c3a850>"
            ]
          },
          "execution_count": 48,
          "metadata": {},
          "output_type": "execute_result"
        },
        {
          "data": {
            "image/png": "[encoded data removed]",
            "text/plain": [
              "<Figure size 640x480 with 1 Axes>"
            ]
          },
          "metadata": {},
          "output_type": "display_data"
        }
      ],
      "source": [
        "import matplotlib.pyplot as plt\n",
        "index = 10\n",
        "print('label = ', label[index])\n",
        "print('imagem')\n",
        "plt.imshow(dataset[index])"
      ]
    },
    {
      "cell_type": "code",
      "execution_count": 49,
      "metadata": {
        "colab": {
          "base_uri": "https://localhost:8080/"
        },
        "id": "qwAXYTBnuJ4J",
        "outputId": "5662b1a6-f055-4495-9d1f-59c436982349"
      },
      "outputs": [
        {
          "name": "stdout",
          "output_type": "stream",
          "text": [
            "(2000, 64, 64, 3)\n",
            "(1800, 64, 64, 3)\n",
            "(1800, 2)\n"
          ]
        }
      ],
      "source": [
        "X = np.array(dataset)\n",
        "X = X/255\n",
        "\n",
        "print(np.shape(X))\n",
        "\n",
        "y = tf.keras.utils.to_categorical(np.array(label))\n",
        "\n",
        "from sklearn.model_selection import train_test_split\n",
        "\n",
        "X_train, X_test, y_train, y_test = train_test_split(X, y, test_size = 0.10, random_state = 0)\n",
        "print(np.shape(X_train))\n",
        "print(np.shape(y_train))"
      ]
    },
    {
      "cell_type": "code",
      "execution_count": 50,
      "metadata": {
        "colab": {
          "base_uri": "https://localhost:8080/"
        },
        "id": "SQWQYsXcwFm7",
        "outputId": "729f6662-f553-4eee-b866-055a83602680"
      },
      "outputs": [
        {
          "name": "stdout",
          "output_type": "stream",
          "text": [
            "Model: \"model_5\"\n",
            "_________________________________________________________________\n",
            " Layer (type)                Output Shape              Param #   \n",
            "=================================================================\n",
            " input_6 (InputLayer)        [(None, 64, 64, 3)]       0         \n",
            "                                                                 \n",
            " conv2d_13 (Conv2D)          (None, 64, 64, 32)        896       \n",
            "                                                                 \n",
            " max_pooling2d_13 (MaxPooli  (None, 32, 32, 32)        0         \n",
            " ng2D)                                                           \n",
            "                                                                 \n",
            " dropout_23 (Dropout)        (None, 32, 32, 32)        0         \n",
            "                                                                 \n",
            " conv2d_14 (Conv2D)          (None, 32, 32, 32)        9248      \n",
            "                                                                 \n",
            " max_pooling2d_14 (MaxPooli  (None, 16, 16, 32)        0         \n",
            " ng2D)                                                           \n",
            "                                                                 \n",
            " dropout_24 (Dropout)        (None, 16, 16, 32)        0         \n",
            "                                                                 \n",
            " conv2d_15 (Conv2D)          (None, 16, 16, 32)        9248      \n",
            "                                                                 \n",
            " max_pooling2d_15 (MaxPooli  (None, 8, 8, 32)          0         \n",
            " ng2D)                                                           \n",
            "                                                                 \n",
            " dropout_25 (Dropout)        (None, 8, 8, 32)          0         \n",
            "                                                                 \n",
            " flatten_5 (Flatten)         (None, 2048)              0         \n",
            "                                                                 \n",
            " dense_15 (Dense)            (None, 512)               1049088   \n",
            "                                                                 \n",
            " dropout_26 (Dropout)        (None, 512)               0         \n",
            "                                                                 \n",
            " dense_16 (Dense)            (None, 256)               131328    \n",
            "                                                                 \n",
            " dropout_27 (Dropout)        (None, 256)               0         \n",
            "                                                                 \n",
            " dense_17 (Dense)            (None, 2)                 514       \n",
            "                                                                 \n",
            "=================================================================\n",
            "Total params: 1200322 (4.58 MB)\n",
            "Trainable params: 1200322 (4.58 MB)\n",
            "Non-trainable params: 0 (0.00 Byte)\n",
            "_________________________________________________________________\n"
          ]
        }
      ],
      "source": [
        "TAM = (SIZE, SIZE, 3)\n",
        "inp = tf.keras.Input(shape = TAM)\n",
        "\n",
        "conv1 = tf.keras.layers.Conv2D(32, kernel_size = (3,3), activation = 'relu', padding = 'same')(inp)\n",
        "\n",
        "pool1 = tf.keras.layers.MaxPooling2D(pool_size=(2,2))(conv1)\n",
        "\n",
        "drop1 = tf.keras.layers.Dropout(rate = 0.2)(pool1)\n",
        "\n",
        "\n",
        "conv2 = tf.keras.layers.Conv2D(32, kernel_size = (3,3), activation = 'relu', padding = 'same')(drop1)\n",
        "\n",
        "pool2 = tf.keras.layers.MaxPooling2D(pool_size=(2,2))(conv2)\n",
        "\n",
        "drop2 = tf.keras.layers.Dropout(rate = 0.2)(pool2)\n",
        "\n",
        "\n",
        "conv3 = tf.keras.layers.Conv2D(32, kernel_size = (3,3), activation = 'relu', padding = 'same')(drop2)\n",
        "\n",
        "pool3 = tf.keras.layers.MaxPooling2D(pool_size=(2,2))(conv3)\n",
        "\n",
        "drop3 = tf.keras.layers.Dropout(rate = 0.2)(pool3)\n",
        "\n",
        "\n",
        "flat = tf.keras.layers.Flatten()(drop3)\n",
        "\n",
        "dense1 = tf.keras.layers.Dense(512, activation = 'relu')(flat)\n",
        "drop4  = tf.keras.layers.Dropout(rate = 0.2)(dense1)\n",
        "\n",
        "dense2 = tf.keras.layers.Dense(256, activation = 'relu')(drop4)\n",
        "drop5  = tf.keras.layers.Dropout(rate = 0.2)(dense2)\n",
        "\n",
        "out = tf.keras.layers.Dense(2, activation = 'sigmoid')(drop5)\n",
        "\n",
        "model = tf.keras.Model(inputs = inp, outputs = out)\n",
        "\n",
        "model.compile(optimizer = 'adam', loss='binary_crossentropy', metrics = ['accuracy'])\n",
        "\n",
        "\n",
        "model.summary()"
      ]
    },
    {
      "cell_type": "code",
      "execution_count": 51,
      "metadata": {
        "colab": {
          "base_uri": "https://localhost:8080/"
        },
        "id": "9_ym19WxysDV",
        "outputId": "63a18d62-5252-46cd-f06b-b261403f9d10"
      },
      "outputs": [
        {
          "name": "stdout",
          "output_type": "stream",
          "text": [
            "Epoch 1/30\n",
            "26/26 [==============================] - 2s 64ms/step - loss: 0.6988 - accuracy: 0.5438 - val_loss: 0.6941 - val_accuracy: 0.4333\n",
            "Epoch 2/30\n",
            "26/26 [==============================] - 2s 58ms/step - loss: 0.6564 - accuracy: 0.6043 - val_loss: 0.6739 - val_accuracy: 0.5667\n",
            "Epoch 3/30\n",
            "26/26 [==============================] - 1s 57ms/step - loss: 0.6241 - accuracy: 0.6506 - val_loss: 0.6376 - val_accuracy: 0.5778\n",
            "Epoch 4/30\n",
            "26/26 [==============================] - 2s 60ms/step - loss: 0.5835 - accuracy: 0.6735 - val_loss: 0.7300 - val_accuracy: 0.5667\n",
            "Epoch 5/30\n",
            "26/26 [==============================] - 2s 59ms/step - loss: 0.6416 - accuracy: 0.6222 - val_loss: 0.6096 - val_accuracy: 0.7222\n",
            "Epoch 6/30\n",
            "26/26 [==============================] - 2s 58ms/step - loss: 0.5846 - accuracy: 0.6753 - val_loss: 0.5784 - val_accuracy: 0.7778\n",
            "Epoch 7/30\n",
            "26/26 [==============================] - 1s 58ms/step - loss: 0.5737 - accuracy: 0.6846 - val_loss: 0.5704 - val_accuracy: 0.6833\n",
            "Epoch 8/30\n",
            "26/26 [==============================] - 2s 60ms/step - loss: 0.5642 - accuracy: 0.6883 - val_loss: 0.5541 - val_accuracy: 0.7556\n",
            "Epoch 9/30\n",
            "26/26 [==============================] - 2s 59ms/step - loss: 0.5380 - accuracy: 0.7179 - val_loss: 0.5278 - val_accuracy: 0.8000\n",
            "Epoch 10/30\n",
            "26/26 [==============================] - 1s 58ms/step - loss: 0.5337 - accuracy: 0.7179 - val_loss: 0.5315 - val_accuracy: 0.8222\n",
            "Epoch 11/30\n",
            "26/26 [==============================] - 1s 57ms/step - loss: 0.5113 - accuracy: 0.7426 - val_loss: 0.5332 - val_accuracy: 0.7611\n",
            "Epoch 12/30\n",
            "26/26 [==============================] - 1s 56ms/step - loss: 0.4807 - accuracy: 0.7599 - val_loss: 0.4070 - val_accuracy: 0.8389\n",
            "Epoch 13/30\n",
            "26/26 [==============================] - 1s 58ms/step - loss: 0.4522 - accuracy: 0.7877 - val_loss: 0.3967 - val_accuracy: 0.8444\n",
            "Epoch 14/30\n",
            "26/26 [==============================] - 1s 57ms/step - loss: 0.3707 - accuracy: 0.8302 - val_loss: 0.2837 - val_accuracy: 0.8722\n",
            "Epoch 15/30\n",
            "26/26 [==============================] - 1s 57ms/step - loss: 0.3038 - accuracy: 0.8704 - val_loss: 0.3517 - val_accuracy: 0.8278\n",
            "Epoch 16/30\n",
            "26/26 [==============================] - 2s 58ms/step - loss: 0.2751 - accuracy: 0.8852 - val_loss: 0.2587 - val_accuracy: 0.9167\n",
            "Epoch 17/30\n",
            "26/26 [==============================] - 1s 57ms/step - loss: 0.1638 - accuracy: 0.9426 - val_loss: 0.1153 - val_accuracy: 0.9556\n",
            "Epoch 18/30\n",
            "26/26 [==============================] - 1s 57ms/step - loss: 0.2290 - accuracy: 0.9148 - val_loss: 0.2530 - val_accuracy: 0.8778\n",
            "Epoch 19/30\n",
            "26/26 [==============================] - 2s 59ms/step - loss: 0.1623 - accuracy: 0.9352 - val_loss: 0.1272 - val_accuracy: 0.9333\n",
            "Epoch 20/30\n",
            "26/26 [==============================] - 1s 57ms/step - loss: 0.1289 - accuracy: 0.9537 - val_loss: 0.1179 - val_accuracy: 0.9444\n",
            "Epoch 21/30\n",
            "26/26 [==============================] - 1s 57ms/step - loss: 0.1006 - accuracy: 0.9673 - val_loss: 0.1101 - val_accuracy: 0.9722\n",
            "Epoch 22/30\n",
            "26/26 [==============================] - 1s 57ms/step - loss: 0.0865 - accuracy: 0.9691 - val_loss: 0.1200 - val_accuracy: 0.9389\n",
            "Epoch 23/30\n",
            "26/26 [==============================] - 1s 57ms/step - loss: 0.0802 - accuracy: 0.9698 - val_loss: 0.1159 - val_accuracy: 0.9500\n",
            "Epoch 24/30\n",
            "26/26 [==============================] - 1s 56ms/step - loss: 0.0755 - accuracy: 0.9747 - val_loss: 0.1825 - val_accuracy: 0.9278\n",
            "Epoch 25/30\n",
            "26/26 [==============================] - 1s 58ms/step - loss: 0.0799 - accuracy: 0.9747 - val_loss: 0.1118 - val_accuracy: 0.9667\n",
            "Epoch 26/30\n",
            "26/26 [==============================] - 2s 59ms/step - loss: 0.0741 - accuracy: 0.9747 - val_loss: 0.1491 - val_accuracy: 0.9444\n",
            "Epoch 27/30\n",
            "26/26 [==============================] - 1s 57ms/step - loss: 0.0625 - accuracy: 0.9778 - val_loss: 0.1288 - val_accuracy: 0.9500\n",
            "Epoch 28/30\n",
            "26/26 [==============================] - 1s 57ms/step - loss: 0.0480 - accuracy: 0.9852 - val_loss: 0.1564 - val_accuracy: 0.9500\n",
            "Epoch 29/30\n",
            "26/26 [==============================] - 1s 57ms/step - loss: 0.0398 - accuracy: 0.9858 - val_loss: 0.1471 - val_accuracy: 0.9556\n",
            "Epoch 30/30\n",
            "26/26 [==============================] - 1s 58ms/step - loss: 0.0493 - accuracy: 0.9858 - val_loss: 0.1322 - val_accuracy: 0.9500\n"
          ]
        }
      ],
      "source": [
        "history = model.fit(X_train, y_train, batch_size = 64, verbose = 1, epochs = 30, validation_split = 0.1)"
      ]
    },
    {
      "cell_type": "code",
      "execution_count": 55,
      "metadata": {
        "colab": {
          "base_uri": "https://localhost:8080/",
          "height": 472
        },
        "id": "UJeEwzdPzc-J",
        "outputId": "b5722840-e81d-4957-ec4f-ad51844fe621"
      },
      "outputs": [
        {
          "data": {
            "image/png": "[encoded data removed]",
            "text/plain": [
              "<Figure size 640x480 with 1 Axes>"
            ]
          },
          "metadata": {},
          "output_type": "display_data"
        }
      ],
      "source": [
        "import matplotlib.pyplot as plt\n",
        "\n",
        "loss = history.history['accuracy']\n",
        "val_loss = history.history['val_accuracy']\n",
        "\n",
        "epochs = range(1, len(loss) + 1)\n",
        "\n",
        "plt.plot(epochs, loss, 'y', label = \"Treinamento\")\n",
        "plt.plot(epochs, val_loss, 'r', label = \"Validacao\")\n",
        "\n",
        "plt.title(\"Treinamento versus validacao\")\n",
        "plt.xlabel(\"epocas\")\n",
        "plt.xlabel(\"Acuracia Globalp\")\n",
        "plt.legend()\n",
        "plt.show()"
      ]
    },
    {
      "cell_type": "code",
      "execution_count": 56,
      "metadata": {
        "colab": {
          "base_uri": "https://localhost:8080/",
          "height": 181
        },
        "id": "n_hA9VRP0L5S",
        "outputId": "965c6290-15d2-4acd-b0df-dca6d25a35f2"
      },
      "outputs": [],
      "source": [
        "MODEL_NAME='malaria_model_size_128.h5'\n",
        "model.save(MODEL_NAME)\n"
      ]
    },
    {
      "cell_type": "code",
      "execution_count": 57,
      "metadata": {
        "id": "o58yDN_hqVsd"
      },
      "outputs": [
        {
          "name": "stdout",
          "output_type": "stream",
          "text": [
            "7/7 [==============================] - 0s 6ms/step - loss: 0.1632 - accuracy: 0.9650\n",
            "0.9649999737739563\n"
          ]
        }
      ],
      "source": [
        "from tensorflow.keras.models import load_model\n",
        "\n",
        "model = load_model(MODEL_NAME)\n",
        "\n",
        "_, score = model.evaluate(X_test, y_test)\n",
        "\n",
        "# accuracy: 0.9650\n",
        "print(score)\n"
      ]
    }
  ],
  "metadata": {
    "accelerator": "GPU",
    "colab": {
      "gpuType": "T4",
      "provenance": []
    },
    "kernelspec": {
      "display_name": "Python 3",
      "name": "python3"
    },
    "language_info": {
      "codemirror_mode": {
        "name": "ipython",
        "version": 3
      },
      "file_extension": ".py",
      "mimetype": "text/x-python",
      "name": "python",
      "nbconvert_exporter": "python",
      "pygments_lexer": "ipython3",
      "version": "3.11.5"
    }
  },
  "nbformat": 4,
  "nbformat_minor": 0
}
